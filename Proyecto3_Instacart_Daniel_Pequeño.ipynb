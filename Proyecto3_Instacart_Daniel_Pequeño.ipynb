{
 "cells": [
  {
   "cell_type": "markdown",
   "id": "ba1c8a27",
   "metadata": {},
   "source": [
    "¡Hola!\n",
    "\n",
    "Mi nombre es Tonatiuh Cruz. Me complace revisar tu proyecto hoy.\n",
    "\n",
    "Al identificar cualquier error inicialmente, simplemente los destacaré. Te animo a localizar y abordar los problemas de forma independiente como parte de tu preparación para un rol como data-scientist. En un entorno profesional, tu líder de equipo seguiría un enfoque similar. Si encuentras la tarea desafiante, proporcionaré una pista más específica en la próxima iteración.\n",
    "\n",
    "Encontrarás mis comentarios a continuación - **por favor no los muevas, modifiques o elimines**.\n",
    "\n",
    "Puedes encontrar mis comentarios en cajas verdes, amarillas o rojas como esta:\n",
    "\n",
    "<div class=\"alert alert-block alert-success\">\n",
    "<b>Comentario del revisor</b> <a class=\"tocSkip\"></a>\n",
    "\n",
    "Éxito. Todo está hecho correctamente.\n",
    "</div>\n",
    "\n",
    "<div class=\"alert alert-block alert-warning\">\n",
    "<b>Comentario del revisor</b> <a class=\"tocSkip\"></a>\n",
    "\n",
    "Observaciones. Algunas recomendaciones.\n",
    "</div>\n",
    "\n",
    "<div class=\"alert alert-block alert-danger\">\n",
    "<b>Comentario del revisor</b> <a class=\"tocSkip\"></a>\n",
    "\n",
    "Necesita corrección. El bloque requiere algunas correcciones. El trabajo no puede ser aceptado con comentarios en rojo.\n",
    "</div>\n",
    "\n",
    "Puedes responderme utilizando esto:\n",
    "\n",
    "<div class=\"alert alert-block alert-info\">\n",
    "<b>Respuesta del estudiante.</b> <a class=\"tocSkip\"></a>\n",
    "</div>"
   ]
  },
  {
   "cell_type": "markdown",
   "id": "3Xg_RQfnafXz",
   "metadata": {
    "id": "3Xg_RQfnafXz"
   },
   "source": [
    "# ¡Llena ese carrito!"
   ]
  },
  {
   "cell_type": "markdown",
   "id": "mhIvmmkW414q",
   "metadata": {
    "id": "mhIvmmkW414q"
   },
   "source": [
    "# Introducción\n",
    "\n",
    "Instacart es una plataforma de entregas de comestibles donde la clientela puede registrar un pedido y hacer que se lo entreguen, similar a Uber Eats y Door Dash.\n",
    "El conjunto de datos que te hemos proporcionado tiene modificaciones del original. Redujimos el tamaño del conjunto para que tus cálculos se hicieran más rápido e introdujimos valores ausentes y duplicados. Tuvimos cuidado de conservar las distribuciones de los datos originales cuando hicimos los cambios.\n",
    "\n",
    "Debes completar tres pasos. Para cada uno de ellos, escribe una breve introducción que refleje con claridad cómo pretendes resolver cada paso, y escribe párrafos explicatorios que justifiquen tus decisiones al tiempo que avanzas en tu solución.  También escribe una conclusión que resuma tus hallazgos y elecciones.\n"
   ]
  },
  {
   "cell_type": "markdown",
   "id": "3MbyzpOQZ5Or",
   "metadata": {
    "id": "3MbyzpOQZ5Or"
   },
   "source": [
    "## Diccionario de datos\n",
    "\n",
    "Hay cinco tablas en el conjunto de datos, y tendrás que usarlas todas para hacer el preprocesamiento de datos y el análisis exploratorio de datos. A continuación se muestra un diccionario de datos que enumera las columnas de cada tabla y describe los datos que contienen.\n",
    "\n",
    "- `instacart_orders.csv`: cada fila corresponde a un pedido en la aplicación Instacart.\n",
    "    - `'order_id'`: número de ID que identifica de manera única cada pedido.\n",
    "    - `'user_id'`: número de ID que identifica de manera única la cuenta de cada cliente.\n",
    "    - `'order_number'`: el número de veces que este cliente ha hecho un pedido.\n",
    "    - `'order_dow'`: día de la semana en que se hizo el pedido (0 si es domingo).\n",
    "    - `'order_hour_of_day'`: hora del día en que se hizo el pedido.\n",
    "    - `'days_since_prior_order'`: número de días transcurridos desde que este cliente hizo su pedido anterior.\n",
    "- `products.csv`: cada fila corresponde a un producto único que pueden comprar los clientes.\n",
    "    - `'product_id'`: número ID que identifica de manera única cada producto.\n",
    "    - `'product_name'`: nombre del producto.\n",
    "    - `'aisle_id'`: número ID que identifica de manera única cada categoría de pasillo de víveres.\n",
    "    - `'department_id'`: número ID que identifica de manera única cada departamento de víveres.\n",
    "- `order_products.csv`: cada fila corresponde a un artículo pedido en un pedido.\n",
    "    - `'order_id'`: número de ID que identifica de manera única cada pedido.\n",
    "    - `'product_id'`: número ID que identifica de manera única cada producto.\n",
    "    - `'add_to_cart_order'`: el orden secuencial en el que se añadió cada artículo en el carrito.\n",
    "    - `'reordered'`: 0 si el cliente nunca ha pedido este producto antes, 1 si lo ha pedido.\n",
    "- `aisles.csv`\n",
    "    - `'aisle_id'`: número ID que identifica de manera única cada categoría de pasillo de víveres.\n",
    "    - `'aisle'`: nombre del pasillo.\n",
    "- `departments.csv`\n",
    "    - `'department_id'`: número ID que identifica de manera única cada departamento de víveres.\n",
    "    - `'department'`: nombre del departamento."
   ]
  },
  {
   "cell_type": "markdown",
   "id": "n3Ha_cNSZ8lK",
   "metadata": {
    "id": "n3Ha_cNSZ8lK"
   },
   "source": [
    "# Paso 1. Descripción de los datos\n",
    "\n",
    "Lee los archivos de datos (`/datasets/instacart_orders.csv`, `/datasets/products.csv`, `/datasets/aisles.csv`, `/datasets/departments.csv` y `/datasets/order_products.csv`) con `pd.read_csv()` usando los parámetros adecuados para leer los datos correctamente. Verifica la información para cada DataFrame creado.\n"
   ]
  },
  {
   "cell_type": "markdown",
   "id": "OmlQPLlyaAfR",
   "metadata": {
    "id": "OmlQPLlyaAfR"
   },
   "source": [
    "## Plan de solución\n",
    "\n",
    "Escribe aquí tu plan de solución para el Paso 1. Descripción de los datos.\n",
    "1. Primero procederé a leer los datos con pd.read_csv.\n",
    "2. Luego a obtener la información de cada uno de los datasets con .info()"
   ]
  },
  {
   "cell_type": "code",
   "execution_count": 14,
   "id": "fbf1adab",
   "metadata": {
    "id": "fbf1adab"
   },
   "outputs": [],
   "source": [
    "import pandas as pd\n",
    "from matplotlib import pyplot as plt"
   ]
  },
  {
   "cell_type": "markdown",
   "id": "dd3bd080",
   "metadata": {},
   "source": [
    "<div class=\"alert alert-block alert-warning\">\n",
    "<b>Comentario revisor</b> <a class=\"tocSkip\"></a>\n",
    "\n",
    "\n",
    "Recomiendo importar y cargar la librería de matplolib.pyplot para el desarrollo de las diferentes gráficas que te van a ayudar al análisis de los datos. \n",
    "</div>"
   ]
  },
  {
   "cell_type": "code",
   "execution_count": 15,
   "id": "ad36396d",
   "metadata": {
    "id": "ad36396d"
   },
   "outputs": [],
   "source": [
    "df1=pd.read_csv('/datasets/instacart_orders.csv')\n",
    "df2=pd.read_csv('/datasets/products.csv')\n",
    "df3=pd.read_csv('/datasets/aisles.csv')\n",
    "df4=pd.read_csv('/datasets/departments.csv')\n",
    "df5=pd.read_csv('/datasets/order_products.csv')"
   ]
  },
  {
   "cell_type": "code",
   "execution_count": 16,
   "id": "ad6a1efa",
   "metadata": {
    "id": "ad6a1efa",
    "scrolled": true
   },
   "outputs": [
    {
     "name": "stdout",
     "output_type": "stream",
     "text": [
      "<class 'pandas.core.frame.DataFrame'>\n",
      "RangeIndex: 478967 entries, 0 to 478966\n",
      "Data columns (total 1 columns):\n",
      " #   Column                                                                            Non-Null Count   Dtype \n",
      "---  ------                                                                            --------------   ----- \n",
      " 0   order_id;user_id;order_number;order_dow;order_hour_of_day;days_since_prior_order  478967 non-null  object\n",
      "dtypes: object(1)\n",
      "memory usage: 3.7+ MB\n"
     ]
    }
   ],
   "source": [
    "df1.info()"
   ]
  },
  {
   "cell_type": "code",
   "execution_count": 17,
   "id": "5130e05e",
   "metadata": {
    "id": "5130e05e"
   },
   "outputs": [
    {
     "name": "stdout",
     "output_type": "stream",
     "text": [
      "<class 'pandas.core.frame.DataFrame'>\n",
      "RangeIndex: 49694 entries, 0 to 49693\n",
      "Data columns (total 1 columns):\n",
      " #   Column                                          Non-Null Count  Dtype \n",
      "---  ------                                          --------------  ----- \n",
      " 0   product_id;product_name;aisle_id;department_id  49694 non-null  object\n",
      "dtypes: object(1)\n",
      "memory usage: 388.4+ KB\n"
     ]
    }
   ],
   "source": [
    "df2.info()"
   ]
  },
  {
   "cell_type": "code",
   "execution_count": 18,
   "id": "d8370c05",
   "metadata": {
    "id": "d8370c05"
   },
   "outputs": [
    {
     "name": "stdout",
     "output_type": "stream",
     "text": [
      "<class 'pandas.core.frame.DataFrame'>\n",
      "RangeIndex: 134 entries, 0 to 133\n",
      "Data columns (total 1 columns):\n",
      " #   Column          Non-Null Count  Dtype \n",
      "---  ------          --------------  ----- \n",
      " 0   aisle_id;aisle  134 non-null    object\n",
      "dtypes: object(1)\n",
      "memory usage: 1.2+ KB\n"
     ]
    }
   ],
   "source": [
    "df3.info()"
   ]
  },
  {
   "cell_type": "code",
   "execution_count": 19,
   "id": "59e2090f",
   "metadata": {
    "id": "59e2090f"
   },
   "outputs": [
    {
     "name": "stdout",
     "output_type": "stream",
     "text": [
      "<class 'pandas.core.frame.DataFrame'>\n",
      "RangeIndex: 21 entries, 0 to 20\n",
      "Data columns (total 1 columns):\n",
      " #   Column                    Non-Null Count  Dtype \n",
      "---  ------                    --------------  ----- \n",
      " 0   department_id;department  21 non-null     object\n",
      "dtypes: object(1)\n",
      "memory usage: 296.0+ bytes\n"
     ]
    }
   ],
   "source": [
    "df4.info()"
   ]
  },
  {
   "cell_type": "code",
   "execution_count": 20,
   "id": "6fc81694",
   "metadata": {
    "id": "6fc81694"
   },
   "outputs": [
    {
     "name": "stdout",
     "output_type": "stream",
     "text": [
      "<class 'pandas.core.frame.DataFrame'>\n",
      "RangeIndex: 4545007 entries, 0 to 4545006\n",
      "Data columns (total 1 columns):\n",
      " #   Column                                           Dtype \n",
      "---  ------                                           ----- \n",
      " 0   order_id;product_id;add_to_cart_order;reordered  object\n",
      "dtypes: object(1)\n",
      "memory usage: 34.7+ MB\n"
     ]
    }
   ],
   "source": [
    "df5.info()"
   ]
  },
  {
   "cell_type": "markdown",
   "id": "t75BD19oaR5f",
   "metadata": {
    "id": "t75BD19oaR5f"
   },
   "source": [
    "## Conclusiones\n",
    "\n",
    "Escribe aquí tus conclusiones intermedias sobre el Paso 1. Descripción de los datos.\n",
    "\n",
    "Podemos revisar que cada dataset informa tener tan solo una columna, luego al leer el nombre de la columna nos damos cuenta tienen mas columnas solo que los nombres de cada columna no se encuentran separadas correctamente una de otra. Y todas son de tipo object."
   ]
  },
  {
   "cell_type": "markdown",
   "id": "8RJHqxVmaVsF",
   "metadata": {
    "id": "8RJHqxVmaVsF"
   },
   "source": [
    "# Paso 2. Preprocesamiento de los datos\n",
    "\n",
    "Preprocesa los datos de la siguiente manera:\n",
    "\n",
    "- Verifica y corrige los tipos de datos (por ejemplo, asegúrate de que las columnas de ID sean números enteros).\n",
    "- Identifica y completa los valores ausentes.\n",
    "- Identifica y elimina los valores duplicados.\n",
    "\n",
    "Asegúrate de explicar qué tipos de valores ausentes y duplicados encontraste, cómo los completaste o eliminaste y por qué usaste esos métodos. ¿Por qué crees que estos valores ausentes y duplicados pueden haber estado presentes en el conjunto de datos?"
   ]
  },
  {
   "cell_type": "markdown",
   "id": "p6poABZQaZYb",
   "metadata": {
    "id": "p6poABZQaZYb"
   },
   "source": [
    "## Plan de solución\n",
    "\n",
    "Escribe aquí tu plan para el Paso 2. Preprocesamiento de los datos.\n",
    "\n",
    "1. Tendremos que utilizar el parámetro sep='' para separar correctamente las columnas de cada dataset y de esta manera poder visualizar con info() las caracteristicas de cada columna.\n",
    "\n"
   ]
  },
  {
   "cell_type": "code",
   "execution_count": 21,
   "id": "5e5468e2",
   "metadata": {
    "scrolled": true
   },
   "outputs": [
    {
     "name": "stdout",
     "output_type": "stream",
     "text": [
      "<class 'pandas.core.frame.DataFrame'>\n",
      "RangeIndex: 478967 entries, 0 to 478966\n",
      "Data columns (total 6 columns):\n",
      " #   Column                  Non-Null Count   Dtype  \n",
      "---  ------                  --------------   -----  \n",
      " 0   order_id                478967 non-null  int64  \n",
      " 1   user_id                 478967 non-null  int64  \n",
      " 2   order_number            478967 non-null  int64  \n",
      " 3   order_dow               478967 non-null  int64  \n",
      " 4   order_hour_of_day       478967 non-null  int64  \n",
      " 5   days_since_prior_order  450148 non-null  float64\n",
      "dtypes: float64(1), int64(5)\n",
      "memory usage: 21.9 MB\n"
     ]
    }
   ],
   "source": [
    "df1=pd.read_csv('/datasets/instacart_orders.csv', sep=';')\n",
    "df1.info()"
   ]
  },
  {
   "cell_type": "code",
   "execution_count": 22,
   "id": "c7b3ad23",
   "metadata": {},
   "outputs": [
    {
     "name": "stdout",
     "output_type": "stream",
     "text": [
      "<class 'pandas.core.frame.DataFrame'>\n",
      "RangeIndex: 49694 entries, 0 to 49693\n",
      "Data columns (total 4 columns):\n",
      " #   Column         Non-Null Count  Dtype \n",
      "---  ------         --------------  ----- \n",
      " 0   product_id     49694 non-null  int64 \n",
      " 1   product_name   48436 non-null  object\n",
      " 2   aisle_id       49694 non-null  int64 \n",
      " 3   department_id  49694 non-null  int64 \n",
      "dtypes: int64(3), object(1)\n",
      "memory usage: 1.5+ MB\n"
     ]
    }
   ],
   "source": [
    "df2=pd.read_csv('/datasets/products.csv', sep=';')\n",
    "df2.info()"
   ]
  },
  {
   "cell_type": "code",
   "execution_count": 23,
   "id": "175f697e",
   "metadata": {},
   "outputs": [
    {
     "name": "stdout",
     "output_type": "stream",
     "text": [
      "<class 'pandas.core.frame.DataFrame'>\n",
      "RangeIndex: 134 entries, 0 to 133\n",
      "Data columns (total 2 columns):\n",
      " #   Column    Non-Null Count  Dtype \n",
      "---  ------    --------------  ----- \n",
      " 0   aisle_id  134 non-null    int64 \n",
      " 1   aisle     134 non-null    object\n",
      "dtypes: int64(1), object(1)\n",
      "memory usage: 2.2+ KB\n"
     ]
    }
   ],
   "source": [
    "df3=pd.read_csv('/datasets/aisles.csv', sep=';')\n",
    "df3.info()"
   ]
  },
  {
   "cell_type": "code",
   "execution_count": 24,
   "id": "7db774a9",
   "metadata": {},
   "outputs": [
    {
     "name": "stdout",
     "output_type": "stream",
     "text": [
      "<class 'pandas.core.frame.DataFrame'>\n",
      "RangeIndex: 21 entries, 0 to 20\n",
      "Data columns (total 2 columns):\n",
      " #   Column         Non-Null Count  Dtype \n",
      "---  ------         --------------  ----- \n",
      " 0   department_id  21 non-null     int64 \n",
      " 1   department     21 non-null     object\n",
      "dtypes: int64(1), object(1)\n",
      "memory usage: 464.0+ bytes\n"
     ]
    }
   ],
   "source": [
    "df4=pd.read_csv('/datasets/departments.csv', sep=';')\n",
    "df4.info()"
   ]
  },
  {
   "cell_type": "code",
   "execution_count": 25,
   "id": "6d9feca2",
   "metadata": {},
   "outputs": [
    {
     "name": "stdout",
     "output_type": "stream",
     "text": [
      "<class 'pandas.core.frame.DataFrame'>\n",
      "RangeIndex: 4545007 entries, 0 to 4545006\n",
      "Data columns (total 4 columns):\n",
      " #   Column             Dtype  \n",
      "---  ------             -----  \n",
      " 0   order_id           int64  \n",
      " 1   product_id         int64  \n",
      " 2   add_to_cart_order  float64\n",
      " 3   reordered          int64  \n",
      "dtypes: float64(1), int64(3)\n",
      "memory usage: 138.7 MB\n"
     ]
    }
   ],
   "source": [
    "df5=pd.read_csv('/datasets/order_products.csv', sep=';')\n",
    "df5.info()"
   ]
  },
  {
   "cell_type": "markdown",
   "id": "11dbf00b",
   "metadata": {},
   "source": [
    "<div class=\"alert alert-block alert-warning\">\n",
    "<b>Comentario del revisor</b> <a class=\"tocSkip\"></a>\n",
    "\n",
    "Hola, Daniel! En este proyecto y en los proyectos que vienen no es necesario cargar las librerías y las bases de datos más de una vez. Esto hace que el código no sea eficiente y pudiera llegar a afectar nuestros análisis.\n",
    "</div>"
   ]
  },
  {
   "cell_type": "markdown",
   "id": "07357848-dc64-4156-9cc3-01ff4365226d",
   "metadata": {
    "id": "07357848-dc64-4156-9cc3-01ff4365226d"
   },
   "source": [
    "## Encuentra y elimina los valores duplicados (y describe cómo tomaste tus decisiones)."
   ]
  },
  {
   "cell_type": "markdown",
   "id": "f179f0a9",
   "metadata": {
    "id": "f179f0a9"
   },
   "source": [
    "### `orders` data frame"
   ]
  },
  {
   "cell_type": "code",
   "execution_count": 26,
   "id": "b99297a5-405a-463d-8535-9adc3da4ad74",
   "metadata": {
    "id": "b99297a5-405a-463d-8535-9adc3da4ad74",
    "scrolled": true
   },
   "outputs": [
    {
     "name": "stdout",
     "output_type": "stream",
     "text": [
      "15\n"
     ]
    }
   ],
   "source": [
    "# Revisa si hay pedidos duplicados\n",
    "print(df1.duplicated().sum())"
   ]
  },
  {
   "cell_type": "code",
   "execution_count": 27,
   "id": "3caa3910",
   "metadata": {},
   "outputs": [
    {
     "name": "stdout",
     "output_type": "stream",
     "text": [
      "        order_id  user_id  order_number  order_dow  order_hour_of_day  \\\n",
      "145574    794638    50898            24          3                  2   \n",
      "223105   2160484   107525            16          3                  2   \n",
      "230807   1918001   188546            14          3                  2   \n",
      "266232   1782114   106752             1          3                  2   \n",
      "273805   1112182   202304            84          3                  2   \n",
      "284038   2845099    31189            11          3                  2   \n",
      "311713   1021560    53767             3          3                  2   \n",
      "321100    408114    68324             4          3                  2   \n",
      "323900   1919531   191501            32          3                  2   \n",
      "345917   2232988    82565             1          3                  2   \n",
      "371905    391768    57671            19          3                  2   \n",
      "394347    467134    63189            21          3                  2   \n",
      "411408   1286742   183220            48          3                  2   \n",
      "415163   2282673    86751            49          3                  2   \n",
      "441599   2125197    14050            48          3                  2   \n",
      "\n",
      "        days_since_prior_order  \n",
      "145574                     2.0  \n",
      "223105                    30.0  \n",
      "230807                    16.0  \n",
      "266232                     NaN  \n",
      "273805                     6.0  \n",
      "284038                     7.0  \n",
      "311713                     9.0  \n",
      "321100                    18.0  \n",
      "323900                     7.0  \n",
      "345917                     NaN  \n",
      "371905                    10.0  \n",
      "394347                     2.0  \n",
      "411408                     4.0  \n",
      "415163                     2.0  \n",
      "441599                     3.0  \n"
     ]
    }
   ],
   "source": [
    "# Visualización de duplicados\n",
    "print(df1[df1.duplicated()])"
   ]
  },
  {
   "cell_type": "markdown",
   "id": "PEkwUX_gvt5A",
   "metadata": {
    "id": "PEkwUX_gvt5A"
   },
   "source": [
    "¿Tienes líneas duplicadas? Si sí, ¿qué tienen en común?\n",
    "\n",
    "\n",
    "Todos los pedidos duplicados se generaron a las 2:00 am y tienen un order_dow de 3."
   ]
  },
  {
   "cell_type": "code",
   "execution_count": 28,
   "id": "0d44de5d",
   "metadata": {
    "id": "0d44de5d"
   },
   "outputs": [
    {
     "name": "stdout",
     "output_type": "stream",
     "text": [
      "        order_id  user_id  order_number  order_dow  order_hour_of_day  \\\n",
      "4838     2766110   162084            41          3                  2   \n",
      "5156     2190225   138285            18          3                  2   \n",
      "15506     553049    58599            13          3                  2   \n",
      "18420     382357   120200            19          3                  2   \n",
      "24691     690242    77357             2          3                  2   \n",
      "...          ...      ...           ...        ...                ...   \n",
      "457013   3384021    14881             6          3                  2   \n",
      "458816    910166   164782            18          3                  2   \n",
      "459635   1680532   106435             6          3                  2   \n",
      "468324    222962    54979            59          3                  2   \n",
      "477526   2592344    46860            38          3                  2   \n",
      "\n",
      "        days_since_prior_order  \n",
      "4838                      16.0  \n",
      "5156                      11.0  \n",
      "15506                      7.0  \n",
      "18420                     11.0  \n",
      "24691                      9.0  \n",
      "...                        ...  \n",
      "457013                    30.0  \n",
      "458816                     4.0  \n",
      "459635                    21.0  \n",
      "468324                     3.0  \n",
      "477526                     3.0  \n",
      "\n",
      "[121 rows x 6 columns]\n"
     ]
    }
   ],
   "source": [
    "# Basándote en tus hallazgos,\n",
    "# Verifica todos los pedidos que se hicieron el miércoles a las 2:00 a.m.\n",
    "ped_mierc_2am = df1[(df1['order_dow'] == 3) & (df1['order_hour_of_day'] == 2)]\n",
    "print(ped_mierc_2am)"
   ]
  },
  {
   "cell_type": "markdown",
   "id": "vu2OWyoqwOx5",
   "metadata": {
    "id": "vu2OWyoqwOx5"
   },
   "source": [
    "¿Qué sugiere este resultado?\n",
    "\n",
    "Sugiera que definitivamente hubo un error al ingresar los pedidos a la misma hora y día.\n"
   ]
  },
  {
   "cell_type": "code",
   "execution_count": 29,
   "id": "480563c7",
   "metadata": {
    "id": "480563c7"
   },
   "outputs": [],
   "source": [
    "# Elimina los pedidos duplicados\n",
    "df1.drop_duplicates(inplace=True)"
   ]
  },
  {
   "cell_type": "code",
   "execution_count": 30,
   "id": "0b2396a2",
   "metadata": {
    "id": "0b2396a2"
   },
   "outputs": [
    {
     "name": "stdout",
     "output_type": "stream",
     "text": [
      "Número de filas duplicadas en df1: 0\n"
     ]
    }
   ],
   "source": [
    "# Vuelve a verificar siprint(df1.duplicated().sum()) hay filas duplicadas\n",
    "print(f\"Número de filas duplicadas en df1: {df1.duplicated().sum()}\")"
   ]
  },
  {
   "cell_type": "code",
   "execution_count": 31,
   "id": "f6113ef1",
   "metadata": {
    "id": "f6113ef1"
   },
   "outputs": [
    {
     "name": "stdout",
     "output_type": "stream",
     "text": [
      "Número de duplicados en IDs:0\n"
     ]
    }
   ],
   "source": [
    "# Vuelve a verificar únicamente si hay IDs duplicados de pedidos\n",
    "dupli_ids = df1['order_id'].duplicated().sum()\n",
    "print(f\"Número de duplicados en IDs:{dupli_ids}\")"
   ]
  },
  {
   "cell_type": "markdown",
   "id": "5e8905ae",
   "metadata": {
    "id": "5e8905ae"
   },
   "source": [
    "1. Voy a verificar la cantidad de duplicados dataset de pedidos utilizando duplicated().sum().\n",
    "2. Visualizar en que columnas se encuentran los duplicados con df1.duplicated()\n",
    "3. Verificar el día y la hora en donde se encuentran los duplicados.\n",
    "4. Eliminar los duplicados con df1.drop_duplicates()\n",
    "5. Verificar si los duplicados aún existen."
   ]
  },
  {
   "cell_type": "markdown",
   "id": "dc2177d9",
   "metadata": {},
   "source": [
    "<div class=\"alert alert-block alert-success\">\n",
    "<b>Comentario del revisor</b> <a class=\"tocSkip\"></a>\n",
    "\n",
    "Muy buen trabajo!! Desarrollaste de manera excelente el análisis de duplicados y eliminaste esos casos. \n",
    "    \n",
    "</div>"
   ]
  },
  {
   "cell_type": "markdown",
   "id": "45e6bc46",
   "metadata": {
    "id": "45e6bc46"
   },
   "source": [
    "### `products` data frame"
   ]
  },
  {
   "cell_type": "code",
   "execution_count": 32,
   "id": "5f526b5b-8175-46fa-a0fd-441767d50e64",
   "metadata": {
    "id": "5f526b5b-8175-46fa-a0fd-441767d50e64"
   },
   "outputs": [
    {
     "name": "stdout",
     "output_type": "stream",
     "text": [
      "0\n"
     ]
    }
   ],
   "source": [
    "# Verifica si hay filas totalmente duplicadas\n",
    "print(df2.duplicated().sum())"
   ]
  },
  {
   "cell_type": "code",
   "execution_count": 33,
   "id": "88daa4f4",
   "metadata": {
    "id": "88daa4f4"
   },
   "outputs": [
    {
     "name": "stdout",
     "output_type": "stream",
     "text": [
      "11    6564\n",
      "19    6264\n",
      "13    5372\n",
      "7     4366\n",
      "1     4008\n",
      "16    3449\n",
      "17    3085\n",
      "15    2092\n",
      "9     1858\n",
      "4     1684\n",
      "3     1516\n",
      "20    1322\n",
      "21    1258\n",
      "6     1139\n",
      "14    1117\n",
      "18    1081\n",
      "5     1054\n",
      "8      972\n",
      "12     907\n",
      "2      548\n",
      "10      38\n",
      "Name: department_id, dtype: int64\n"
     ]
    }
   ],
   "source": [
    "# Revisa únicamente si hay ID de departamentos duplicados\n",
    "print(df2['department_id'].value_counts())"
   ]
  },
  {
   "cell_type": "code",
   "execution_count": 34,
   "id": "c773f0bf",
   "metadata": {
    "id": "c773f0bf",
    "scrolled": true
   },
   "outputs": [
    {
     "name": "stdout",
     "output_type": "stream",
     "text": [
      "GREEN TEA WITH GINSENG AND HONEY                      3\n",
      "CONCENTRACE TRACE MINERAL DROPS                       2\n",
      "AMERICAN CHEESE SLICES                                2\n",
      "OIL OF OREGANO DIETARY SUPPLEMENT                     2\n",
      "TOP THE TATER CHIVE & ONION SOUR CREAM                2\n",
      "                                                     ..\n",
      "POCKET PEPPERONI PIZZA STYLE                          1\n",
      "GERANIUM SCENTED MULTI-SURFACE CLEANER CONCENTRATE    1\n",
      "QUINOA- 100% WHOLE GRAIN- ORGANIC                     1\n",
      "BEER'N BRAT HORSERADISH MUSTARD                       1\n",
      "DAILY SHOWER CLEANER                                  1\n",
      "Name: product_name, Length: 48332, dtype: int64\n"
     ]
    }
   ],
   "source": [
    "# Revisa únicamente si hay nombres duplicados de productos (convierte los nombres a letras mayúsculas para compararlos mejor)\n",
    "upper_product_name = df2['product_name'].str.upper()\n",
    "value_upper_product_name = upper_product_name.value_counts()\n",
    "print(value_upper_product_name)"
   ]
  },
  {
   "cell_type": "code",
   "execution_count": 36,
   "id": "f4b0c915",
   "metadata": {},
   "outputs": [
    {
     "name": "stdout",
     "output_type": "stream",
     "text": [
      "Número de nombres duplicados de productos en df2: 0\n"
     ]
    }
   ],
   "source": [
    "# Eliminando los nombres duplicados de productos\n",
    "value_upper_product_name.drop_duplicates(inplace=True)\n",
    "print(f\"Número de nombres duplicados de productos en df2: {value_upper_product_name.duplicated().sum()}\")"
   ]
  },
  {
   "cell_type": "code",
   "execution_count": 38,
   "id": "50928790",
   "metadata": {},
   "outputs": [
    {
     "data": {
      "text/html": [
       "<div>\n",
       "<style scoped>\n",
       "    .dataframe tbody tr th:only-of-type {\n",
       "        vertical-align: middle;\n",
       "    }\n",
       "\n",
       "    .dataframe tbody tr th {\n",
       "        vertical-align: top;\n",
       "    }\n",
       "\n",
       "    .dataframe thead th {\n",
       "        text-align: right;\n",
       "    }\n",
       "</style>\n",
       "<table border=\"1\" class=\"dataframe\">\n",
       "  <thead>\n",
       "    <tr style=\"text-align: right;\">\n",
       "      <th></th>\n",
       "      <th>product_id</th>\n",
       "      <th>product_name</th>\n",
       "      <th>aisle_id</th>\n",
       "      <th>department_id</th>\n",
       "    </tr>\n",
       "  </thead>\n",
       "  <tbody>\n",
       "    <tr>\n",
       "      <th>0</th>\n",
       "      <td>1</td>\n",
       "      <td>Chocolate Sandwich Cookies</td>\n",
       "      <td>61</td>\n",
       "      <td>19</td>\n",
       "    </tr>\n",
       "    <tr>\n",
       "      <th>1</th>\n",
       "      <td>2</td>\n",
       "      <td>All-Seasons Salt</td>\n",
       "      <td>104</td>\n",
       "      <td>13</td>\n",
       "    </tr>\n",
       "    <tr>\n",
       "      <th>2</th>\n",
       "      <td>3</td>\n",
       "      <td>Robust Golden Unsweetened Oolong Tea</td>\n",
       "      <td>94</td>\n",
       "      <td>7</td>\n",
       "    </tr>\n",
       "    <tr>\n",
       "      <th>3</th>\n",
       "      <td>4</td>\n",
       "      <td>Smart Ones Classic Favorites Mini Rigatoni Wit...</td>\n",
       "      <td>38</td>\n",
       "      <td>1</td>\n",
       "    </tr>\n",
       "    <tr>\n",
       "      <th>4</th>\n",
       "      <td>5</td>\n",
       "      <td>Green Chile Anytime Sauce</td>\n",
       "      <td>5</td>\n",
       "      <td>13</td>\n",
       "    </tr>\n",
       "    <tr>\n",
       "      <th>...</th>\n",
       "      <td>...</td>\n",
       "      <td>...</td>\n",
       "      <td>...</td>\n",
       "      <td>...</td>\n",
       "    </tr>\n",
       "    <tr>\n",
       "      <th>49689</th>\n",
       "      <td>49690</td>\n",
       "      <td>HIGH PERFORMANCE ENERGY DRINK</td>\n",
       "      <td>64</td>\n",
       "      <td>7</td>\n",
       "    </tr>\n",
       "    <tr>\n",
       "      <th>49690</th>\n",
       "      <td>49691</td>\n",
       "      <td>ORIGINAL PANCAKE &amp; WAFFLE MIX</td>\n",
       "      <td>130</td>\n",
       "      <td>14</td>\n",
       "    </tr>\n",
       "    <tr>\n",
       "      <th>49691</th>\n",
       "      <td>49692</td>\n",
       "      <td>ORGANIC INSTANT OATMEAL LIGHT MAPLE BROWN SUGAR</td>\n",
       "      <td>130</td>\n",
       "      <td>14</td>\n",
       "    </tr>\n",
       "    <tr>\n",
       "      <th>49692</th>\n",
       "      <td>49693</td>\n",
       "      <td>SPRING WATER BODY WASH</td>\n",
       "      <td>127</td>\n",
       "      <td>11</td>\n",
       "    </tr>\n",
       "    <tr>\n",
       "      <th>49693</th>\n",
       "      <td>49694</td>\n",
       "      <td>BURRITO- STEAK &amp; CHEESE</td>\n",
       "      <td>38</td>\n",
       "      <td>1</td>\n",
       "    </tr>\n",
       "  </tbody>\n",
       "</table>\n",
       "<p>48436 rows × 4 columns</p>\n",
       "</div>"
      ],
      "text/plain": [
       "       product_id                                       product_name  \\\n",
       "0               1                         Chocolate Sandwich Cookies   \n",
       "1               2                                   All-Seasons Salt   \n",
       "2               3               Robust Golden Unsweetened Oolong Tea   \n",
       "3               4  Smart Ones Classic Favorites Mini Rigatoni Wit...   \n",
       "4               5                          Green Chile Anytime Sauce   \n",
       "...           ...                                                ...   \n",
       "49689       49690                      HIGH PERFORMANCE ENERGY DRINK   \n",
       "49690       49691                      ORIGINAL PANCAKE & WAFFLE MIX   \n",
       "49691       49692    ORGANIC INSTANT OATMEAL LIGHT MAPLE BROWN SUGAR   \n",
       "49692       49693                             SPRING WATER BODY WASH   \n",
       "49693       49694                            BURRITO- STEAK & CHEESE   \n",
       "\n",
       "       aisle_id  department_id  \n",
       "0            61             19  \n",
       "1           104             13  \n",
       "2            94              7  \n",
       "3            38              1  \n",
       "4             5             13  \n",
       "...         ...            ...  \n",
       "49689        64              7  \n",
       "49690       130             14  \n",
       "49691       130             14  \n",
       "49692       127             11  \n",
       "49693        38              1  \n",
       "\n",
       "[48436 rows x 4 columns]"
      ]
     },
     "execution_count": 38,
     "metadata": {},
     "output_type": "execute_result"
    }
   ],
   "source": [
    "#Filtrando registro de nombres duplicados con registro que no tienen datos daltantes\n",
    "df2[~(df2['product_name'].isna())] "
   ]
  },
  {
   "cell_type": "markdown",
   "id": "e290f15d",
   "metadata": {},
   "source": [
    "<div class=\"alert alert-block alert-danger\">\n",
    "<b>Comentario revisor</b> <a class=\"tocSkip\"></a>\n",
    "\n",
    "\n",
    "Muy buen trabajo con los pasos anteriores. Solamente te faltaría complementar con la revisión de los registros con nombres duplicados filtrandon con los registros que no tienen datos faltantes. Para filtrar los registros no faltantes puedes hacer uso de: \n",
    "    \n",
    "    df_products[~(df_products['product_name'].isna())] \n",
    "    \n",
    "Ya solamente tendrías que agregar el filtro de los registros duplicados\n",
    "</div>"
   ]
  },
  {
   "cell_type": "code",
   "execution_count": 192,
   "id": "01efd02e",
   "metadata": {
    "id": "01efd02e"
   },
   "outputs": [
    {
     "name": "stdout",
     "output_type": "stream",
     "text": [
      "0\n"
     ]
    }
   ],
   "source": [
    "# Revisa si hay nombres duplicados de productos no faltantes\n",
    "df2_names = df2[~df2['product_name'].isna()]\n",
    "print(df2_names.duplicated().sum())"
   ]
  },
  {
   "cell_type": "markdown",
   "id": "9da8d293",
   "metadata": {
    "id": "9da8d293"
   },
   "source": [
    "Describe brevemente tus hallazgos y lo que hiciste con ellos.\n",
    "\n",
    "Los hallazgos que pude encontrar son que no tenemos filas totalmente duplicadas, tenemos muchos IDs de departamento duplicados y nombres duplicados de los productos y ningún duplicado de productos no faltantes.\n",
    "\n",
    "1. Verifiqué los ID de departamentos duplicados realizando la suma total de duplicados por filas con duplicated().sum()\n",
    "2. Revise los duplicados ID de departamento aislando la columna 'department_id'\n",
    "3. Eliminé los nombres duplicados de productos\n",
    "4. Convertí df2 a mayúsculas con str.upper() y utilicé value_counts() para revisar los duplicados por nombres\n",
    "5. Y por último utilicé ~df2['product_name'].isna() para revisión de duplicados no faltantes."
   ]
  },
  {
   "cell_type": "markdown",
   "id": "60f30db1",
   "metadata": {
    "id": "60f30db1"
   },
   "source": [
    "### `departments` data frame"
   ]
  },
  {
   "cell_type": "code",
   "execution_count": 193,
   "id": "fb410ad4-0fbf-4b80-bb09-23fdea79afe3",
   "metadata": {
    "id": "fb410ad4-0fbf-4b80-bb09-23fdea79afe3"
   },
   "outputs": [
    {
     "name": "stdout",
     "output_type": "stream",
     "text": [
      "0\n"
     ]
    }
   ],
   "source": [
    "# Revisa si hay filas totalmente duplicadas\n",
    "print(df4.duplicated().sum())"
   ]
  },
  {
   "cell_type": "code",
   "execution_count": 194,
   "id": "332b12bb",
   "metadata": {
    "id": "332b12bb"
   },
   "outputs": [
    {
     "name": "stdout",
     "output_type": "stream",
     "text": [
      "1     1\n",
      "12    1\n",
      "20    1\n",
      "19    1\n",
      "18    1\n",
      "17    1\n",
      "16    1\n",
      "15    1\n",
      "14    1\n",
      "13    1\n",
      "11    1\n",
      "2     1\n",
      "10    1\n",
      "9     1\n",
      "8     1\n",
      "7     1\n",
      "6     1\n",
      "5     1\n",
      "4     1\n",
      "3     1\n",
      "21    1\n",
      "Name: department_id, dtype: int64\n"
     ]
    }
   ],
   "source": [
    "# Revisa únicamente si hay IDs duplicadas de productos\n",
    "print(df4['department_id'].value_counts())"
   ]
  },
  {
   "cell_type": "markdown",
   "id": "bd30d78e",
   "metadata": {
    "id": "bd30d78e"
   },
   "source": [
    "Describe brevemente tus hallazgos y lo que hiciste con ellos.\n",
    "\n",
    "1. No encontré duplicados en las filas y tampoco IDs duplicadas de productos."
   ]
  },
  {
   "cell_type": "markdown",
   "id": "889349c1",
   "metadata": {
    "id": "889349c1"
   },
   "source": [
    "### `aisles` data frame"
   ]
  },
  {
   "cell_type": "code",
   "execution_count": 195,
   "id": "9da89fb9-4679-40f5-ad0d-c34df753a3f8",
   "metadata": {
    "id": "9da89fb9-4679-40f5-ad0d-c34df753a3f8"
   },
   "outputs": [
    {
     "name": "stdout",
     "output_type": "stream",
     "text": [
      "0\n"
     ]
    }
   ],
   "source": [
    "# Revisa si hay filas totalmente duplicadas\n",
    "print(df3.duplicated().sum())"
   ]
  },
  {
   "cell_type": "code",
   "execution_count": 196,
   "id": "da7c2822",
   "metadata": {
    "id": "da7c2822"
   },
   "outputs": [
    {
     "name": "stdout",
     "output_type": "stream",
     "text": [
      "1      1\n",
      "85     1\n",
      "99     1\n",
      "98     1\n",
      "97     1\n",
      "      ..\n",
      "40     1\n",
      "39     1\n",
      "38     1\n",
      "37     1\n",
      "134    1\n",
      "Name: aisle_id, Length: 134, dtype: int64\n",
      "Número de IDs duplicados de productos en df3: 0\n"
     ]
    }
   ],
   "source": [
    "# Revisa únicamente si hay IDs duplicadas de productos\n",
    "print(df3['aisle_id'].value_counts())\n",
    "print(f\"Número de IDs duplicados de productos en df3: {df3['aisle_id'].duplicated().sum()}\")"
   ]
  },
  {
   "cell_type": "markdown",
   "id": "ac63826f",
   "metadata": {
    "id": "ac63826f"
   },
   "source": [
    "Describe brevemente tus hallazgos y lo que hiciste con ellos.\n",
    "\n",
    "No encontré duplicados en las filas y tampoco IDs duplicadas de productos en aisles dataFrame."
   ]
  },
  {
   "cell_type": "markdown",
   "id": "274cd06a",
   "metadata": {
    "id": "274cd06a"
   },
   "source": [
    "### `order_products` data frame"
   ]
  },
  {
   "cell_type": "code",
   "execution_count": 197,
   "id": "52326689-84a8-4b8f-a881-7c68780f62c9",
   "metadata": {
    "id": "52326689-84a8-4b8f-a881-7c68780f62c9"
   },
   "outputs": [
    {
     "name": "stdout",
     "output_type": "stream",
     "text": [
      "0\n"
     ]
    }
   ],
   "source": [
    "# Revisa si hay filas totalmente duplicadas\n",
    "print(df5.duplicated().sum())"
   ]
  },
  {
   "cell_type": "code",
   "execution_count": 198,
   "id": "7b861391",
   "metadata": {
    "id": "7b861391"
   },
   "outputs": [
    {
     "name": "stdout",
     "output_type": "stream",
     "text": [
      "order_id  product_id  add_to_cart_order  reordered\n",
      "4         10054       5.0                1            1\n",
      "2277733   35233       5.0                1            1\n",
      "2277734   15233       4.0                1            1\n",
      "          11471       2.0                1            1\n",
      "          6374        3.0                1            1\n",
      "                                                     ..\n",
      "1145037   26790       21.0               1            1\n",
      "          27767       10.0               1            1\n",
      "          32086       16.0               0            1\n",
      "          33572       5.0                1            1\n",
      "3421079   30136       1.0                0            1\n",
      "Length: 4544171, dtype: int64\n"
     ]
    }
   ],
   "source": [
    "# Vuelve a verificar si hay cualquier otro duplicado engañoso\n",
    "print(df5.value_counts())"
   ]
  },
  {
   "cell_type": "markdown",
   "id": "0b890492",
   "metadata": {
    "id": "0b890492"
   },
   "source": [
    "Describe brevemente tus hallazgos y lo que hiciste con ellos.\n",
    "\n",
    "Busqué con df5.duplicated().sum() y df5.value_counts() y No encontré duplicados en las filas y columnas del aisles dataFrame."
   ]
  },
  {
   "cell_type": "markdown",
   "id": "1e46de76",
   "metadata": {
    "id": "1e46de76"
   },
   "source": [
    "## Encuentra y elimina los valores ausentes\n",
    "\n",
    "Al trabajar con valores duplicados, pudimos observar que también nos falta investigar valores ausentes:\n",
    "\n",
    "* La columna `'product_name'` de la tabla products.\n",
    "* La columna `'days_since_prior_order'` de la tabla orders.\n",
    "* La columna `'add_to_cart_order'` de la tabla order_productos."
   ]
  },
  {
   "cell_type": "markdown",
   "id": "c0aebd78",
   "metadata": {
    "id": "c0aebd78"
   },
   "source": [
    "### `products` data frame"
   ]
  },
  {
   "cell_type": "code",
   "execution_count": 199,
   "id": "fe4a8b0f",
   "metadata": {
    "id": "fe4a8b0f"
   },
   "outputs": [
    {
     "name": "stdout",
     "output_type": "stream",
     "text": [
      "1258\n",
      "NaN                                              1258\n",
      "Rub with Love Salmon Rub                            1\n",
      "Plusbar Protein Peanut Butter Chocolate Bar         1\n",
      "Cool Brew Peach Black Iced Tea                      1\n",
      "Black Cherry Bio Kefir Cultured Milk                1\n",
      "                                                 ... \n",
      "Calming Hair Conditioner                            1\n",
      "Artichoke Sauce                                     1\n",
      "Chipotle Paste With Adobo                           1\n",
      "Better Stevia Liquid Sweetener English Toffee       1\n",
      "All Purpose Greek Seasoning                         1\n",
      "Name: product_name, Length: 48437, dtype: int64\n"
     ]
    }
   ],
   "source": [
    "# Encuentra los valores ausentes en la columna 'product_name'\n",
    "print(df2['product_name'].isna().sum())\n",
    "print(df2['product_name'].value_counts(dropna=False))"
   ]
  },
  {
   "cell_type": "markdown",
   "id": "-A6x1AbJhjkp",
   "metadata": {
    "id": "-A6x1AbJhjkp"
   },
   "source": [
    "Describe brevemente cuáles son tus hallazgos.\n",
    "Los datos coinciden con la la informacion de df2.info() en la primera parte restando 49694 - 48436 = 258."
   ]
  },
  {
   "cell_type": "code",
   "execution_count": 200,
   "id": "e96167bc",
   "metadata": {
    "id": "e96167bc"
   },
   "outputs": [
    {
     "name": "stdout",
     "output_type": "stream",
     "text": [
      "       aisle_id product_name\n",
      "37          100          NaN\n",
      "71          100          NaN\n",
      "109         100          NaN\n",
      "296         100          NaN\n",
      "416         100          NaN\n",
      "...         ...          ...\n",
      "49552       100          NaN\n",
      "49574       100          NaN\n",
      "49640       100          NaN\n",
      "49663       100          NaN\n",
      "49668       100          NaN\n",
      "\n",
      "[1258 rows x 2 columns]\n"
     ]
    }
   ],
   "source": [
    "#  ¿Todos los nombres de productos ausentes están relacionados con el pasillo con ID 100?\n",
    "print(df2.query('aisle_id == 100')[['aisle_id', 'product_name']])"
   ]
  },
  {
   "cell_type": "markdown",
   "id": "WRpIfXRphpSL",
   "metadata": {
    "id": "WRpIfXRphpSL"
   },
   "source": [
    "Describe brevemente cuáles son tus hallazgos.\n",
    "\n",
    "1. Al comparar df2.info() y df2['product_name'].isna().sum() obtuvimos la misma cantidad de datos ausentes.\n",
    "2. Si, Al buscar la relación entre 'aisle_id' y 'product_name' utilizando el método query, pude verificar que los nombres de productos ausentes están relacionados con el aisle_id = 21 con product_name = NaN."
   ]
  },
  {
   "cell_type": "code",
   "execution_count": 201,
   "id": "8fd0a541",
   "metadata": {
    "id": "8fd0a541"
   },
   "outputs": [
    {
     "name": "stdout",
     "output_type": "stream",
     "text": [
      "       department_id product_name\n",
      "37                21          NaN\n",
      "71                21          NaN\n",
      "109               21          NaN\n",
      "296               21          NaN\n",
      "416               21          NaN\n",
      "...              ...          ...\n",
      "49552             21          NaN\n",
      "49574             21          NaN\n",
      "49640             21          NaN\n",
      "49663             21          NaN\n",
      "49668             21          NaN\n",
      "\n",
      "[1258 rows x 2 columns]\n"
     ]
    }
   ],
   "source": [
    "# ¿Todos los nombres de productos ausentes están relacionados con el departamento con ID 21?\n",
    "print(df2.query('department_id == 21')[['department_id', 'product_name']])"
   ]
  },
  {
   "cell_type": "markdown",
   "id": "qDpdYn1Fht_I",
   "metadata": {
    "id": "qDpdYn1Fht_I"
   },
   "source": [
    "Describe brevemente cuáles son tus hallazgos.\n",
    "\n",
    "1. Si, Al buscar la relación entre 'department_id' y 'product_name' utilizando el método query, pude verificar que los nombres de productos ausentes están relacionados con el department_id 21 con product_name = NaN."
   ]
  },
  {
   "cell_type": "code",
   "execution_count": 202,
   "id": "325c3464",
   "metadata": {
    "id": "325c3464"
   },
   "outputs": [
    {
     "name": "stdout",
     "output_type": "stream",
     "text": [
      "    aisle_id    aisle\n",
      "99       100  missing\n",
      "    department_id department\n",
      "20             21    missing\n"
     ]
    }
   ],
   "source": [
    "# Usa las tablas department y aisle para revisar los datos del pasillo con ID 100 y el departamento con ID 21.\n",
    "aisle_100 = df3[df3['aisle_id'] == 100]\n",
    "dept_21 = df4[df4['department_id'] == 21]\n",
    "print(aisle_100)\n",
    "print(dept_21)"
   ]
  },
  {
   "cell_type": "markdown",
   "id": "nqhSTUPhhvEJ",
   "metadata": {
    "id": "nqhSTUPhhvEJ"
   },
   "source": [
    "Describe brevemente cuáles son tus hallazgos.\n",
    "\n",
    "Al filtrar df3['aisle_id'] == 100 y df4['department_id'] == 21 obtuve datos \"missing\" en ambos dataFrame."
   ]
  },
  {
   "cell_type": "code",
   "execution_count": 203,
   "id": "6b295120",
   "metadata": {
    "id": "6b295120"
   },
   "outputs": [
    {
     "name": "stdout",
     "output_type": "stream",
     "text": [
      "Unknown\n",
      "Unknown\n"
     ]
    }
   ],
   "source": [
    "# Completa los nombres de productos ausentes con 'Unknown'\n",
    "# Reemplazo en el dataSet aisles\n",
    "missing = ['missing']\n",
    "df3['aisle_id'] = df3['aisle_id'].where(df3['aisle_id'].isin(missing), 'Unknown')\n",
    "print(df3[df3['aisle_id'] == 'Unknown'].loc[99, 'aisle_id'])\n",
    "\n",
    "# Reemplazo en el dataSet departments\n",
    "df4['department_id'] = df4['department_id'].where(df4['department_id'].isin(missing), 'Unknown')\n",
    "print(df4[df4['department_id'] == 'Unknown'].loc[20, 'department_id'])"
   ]
  },
  {
   "cell_type": "markdown",
   "id": "fc70e5ad",
   "metadata": {
    "id": "fc70e5ad"
   },
   "source": [
    "Describe brevemente tus hallazgos y lo que hiciste con ellos.\n",
    "\n",
    "1.Use las tablas department y aisle para revisar los productos ausentes con nombres 'missing' para reemplazarlos por 'Unknown'.\n",
    "2. Utilizando em método where verifiqué las mismas filas y columnas para revisar el cambio de nombre."
   ]
  },
  {
   "cell_type": "markdown",
   "id": "a1da3bd2",
   "metadata": {},
   "source": [
    "<div class=\"alert alert-block alert-success\">\n",
    "<b>Comentario del revisor</b> <a class=\"tocSkip\"></a>\n",
    "\n",
    "Muy buen trabajo!! Desarrollaste de manera excelente el análisis de valores faltantes y los llenaste con \"unknown\".\n",
    "    \n",
    "</div>"
   ]
  },
  {
   "cell_type": "markdown",
   "id": "7eb45c86",
   "metadata": {
    "id": "7eb45c86"
   },
   "source": [
    "### `orders` data frame"
   ]
  },
  {
   "cell_type": "code",
   "execution_count": 204,
   "id": "93e41d96",
   "metadata": {
    "id": "93e41d96"
   },
   "outputs": [
    {
     "name": "stdout",
     "output_type": "stream",
     "text": [
      "order_id                      0\n",
      "user_id                       0\n",
      "order_number                  0\n",
      "order_dow                     0\n",
      "order_hour_of_day             0\n",
      "days_since_prior_order    28817\n",
      "dtype: int64\n"
     ]
    }
   ],
   "source": [
    "# Encuentra los valores ausentes\n",
    "print(df1.isna().sum())"
   ]
  },
  {
   "cell_type": "code",
   "execution_count": 205,
   "id": "166e5a86",
   "metadata": {
    "id": "166e5a86",
    "scrolled": false
   },
   "outputs": [
    {
     "name": "stdout",
     "output_type": "stream",
     "text": [
      "28817\n",
      "0.0      9589\n",
      "1.0     20179\n",
      "2.0     27138\n",
      "3.0     30224\n",
      "4.0     31006\n",
      "5.0     30096\n",
      "6.0     33930\n",
      "7.0     44577\n",
      "8.0     25361\n",
      "9.0     16753\n",
      "10.0    13309\n",
      "11.0    11467\n",
      "12.0    10658\n",
      "13.0    11737\n",
      "14.0    13992\n",
      "15.0     9416\n",
      "16.0     6587\n",
      "17.0     5498\n",
      "18.0     4971\n",
      "19.0     4939\n",
      "20.0     5302\n",
      "21.0     6448\n",
      "22.0     4514\n",
      "23.0     3337\n",
      "24.0     3015\n",
      "25.0     2711\n",
      "26.0     2640\n",
      "27.0     2986\n",
      "28.0     3745\n",
      "29.0     2673\n",
      "30.0    51337\n",
      "NaN     28817\n",
      "Name: days_since_prior_order, dtype: int64\n"
     ]
    }
   ],
   "source": [
    "# ¿Hay algún valor ausente que no sea el primer pedido del cliente?\n",
    "print(df1['days_since_prior_order'].isna().sum())\n",
    "print(df1['days_since_prior_order'].value_counts(dropna=False).sort_index())"
   ]
  },
  {
   "cell_type": "code",
   "execution_count": null,
   "id": "d381f20c",
   "metadata": {},
   "outputs": [],
   "source": []
  },
  {
   "cell_type": "markdown",
   "id": "4e23d089",
   "metadata": {
    "id": "4e23d089"
   },
   "source": [
    "Describe brevemente tus hallazgos y lo que hiciste con ellos.\n",
    "\n",
    "1. Tenemos 28819 valores ausentes en la columna 'days_since_prior_order' con el nombre 'NaN'.\n",
    "2. Los reemplazamos utilizando mean() la media de los datos ya que no encontramos valores atípicos significativos."
   ]
  },
  {
   "cell_type": "markdown",
   "id": "69dc9ca4",
   "metadata": {
    "id": "69dc9ca4"
   },
   "source": [
    "### `order_products` data frame"
   ]
  },
  {
   "cell_type": "code",
   "execution_count": 206,
   "id": "b8240253",
   "metadata": {
    "id": "b8240253"
   },
   "outputs": [
    {
     "name": "stdout",
     "output_type": "stream",
     "text": [
      "order_id               0\n",
      "product_id             0\n",
      "add_to_cart_order    836\n",
      "reordered              0\n",
      "dtype: int64\n"
     ]
    }
   ],
   "source": [
    "# Encuentra los valores ausentes\n",
    "print(df5.isna().sum())"
   ]
  },
  {
   "cell_type": "code",
   "execution_count": 207,
   "id": "9a78e5ee",
   "metadata": {
    "id": "9a78e5ee"
   },
   "outputs": [
    {
     "name": "stdout",
     "output_type": "stream",
     "text": [
      "64.0\n",
      "1.0\n"
     ]
    }
   ],
   "source": [
    "# ¿Cuáles son los valores mínimos y máximos en esta columna?\n",
    "max_order_prod = df5['add_to_cart_order'].max()\n",
    "min_order_prod = df5['add_to_cart_order'].min()\n",
    "print(max_order_prod)\n",
    "print(min_order_prod)"
   ]
  },
  {
   "cell_type": "markdown",
   "id": "-Z2Ja215jW78",
   "metadata": {
    "id": "-Z2Ja215jW78"
   },
   "source": [
    "Describe brevemente cuáles son tus hallazgos.\n",
    "\n",
    "1. Al buscar los valores ausentes se puede ver que la columna 'add_to_cart_order' contiene 836 valores ausentes.\n",
    "2. Esta columna tiene un valor máximo de 64 pedidos y un valor mínimo de 1 pedido."
   ]
  },
  {
   "cell_type": "code",
   "execution_count": 208,
   "id": "ab9d0c2b",
   "metadata": {
    "id": "ab9d0c2b"
   },
   "outputs": [
    {
     "name": "stdout",
     "output_type": "stream",
     "text": [
      "737      2449164\n",
      "9926     1968313\n",
      "14394    2926893\n",
      "16418    1717990\n",
      "30114    1959075\n",
      "Name: order_id, dtype: int64\n"
     ]
    }
   ],
   "source": [
    "# Guarda todas las IDs de pedidos que tengan un valor ausente en 'add_to_cart_order'\n",
    "aus_add_to_cart_order = df5[df5['add_to_cart_order'].isna()]\n",
    "aus_order_id = aus_add_to_cart_order['order_id']\n",
    "print(aus_order_id.head())"
   ]
  },
  {
   "cell_type": "code",
   "execution_count": 209,
   "id": "54c31695",
   "metadata": {
    "id": "54c31695"
   },
   "outputs": [
    {
     "name": "stdout",
     "output_type": "stream",
     "text": [
      "9310        1\n",
      "61355      63\n",
      "102236     31\n",
      "129627      5\n",
      "165801      6\n",
      "           ..\n",
      "2999801     6\n",
      "3125735    22\n",
      "3308010    51\n",
      "3347453     7\n",
      "3383594     5\n",
      "Name: order_id, Length: 70, dtype: int64\n",
      "order_id\n",
      "9310       0\n",
      "61355      0\n",
      "102236     0\n",
      "129627     0\n",
      "165801     0\n",
      "          ..\n",
      "2999801    0\n",
      "3125735    0\n",
      "3308010    0\n",
      "3347453    0\n",
      "3383594    0\n",
      "Name: add_to_cart_order, Length: 70, dtype: int64\n",
      "Conteo de número de 'product_id' en cada pedido: order_id\n",
      "4          13\n",
      "9          15\n",
      "11          5\n",
      "19          3\n",
      "20          8\n",
      "           ..\n",
      "3421034    17\n",
      "3421053     9\n",
      "3421071     5\n",
      "3421077     4\n",
      "3421079     1\n",
      "Name: product_id, Length: 450046, dtype: int64\n",
      "Valor mínimo de conteo es: 1\n"
     ]
    }
   ],
   "source": [
    "# ¿Todos los pedidos con valores ausentes tienen más de 64 productos?# Encuentra los valores ausentes\n",
    "print(aus_order_id.value_counts(dropna=False).sort_index())\n",
    "\n",
    "# Agrupa todos los pedidos con datos ausentes por su ID de pedido.\n",
    "aus_add_to_cart_order = df5[df5['add_to_cart_order'].isna()]\n",
    "pedidos_agrupados = aus_add_to_cart_order.groupby('order_id')['add_to_cart_order'].count()\n",
    "print(pedidos_agrupados)\n",
    "\n",
    "# Cuenta el número de 'product_id' en cada pedido y revisa el valor mínimo del conteo.\n",
    "product_count_pedido = df5.groupby('order_id')['product_id'].count()\n",
    "min_product_count = product_count_pedido.min()\n",
    "print(f\"Conteo de número de 'product_id' en cada pedido: {product_count_pedido}\")\n",
    "print(f\"Valor mínimo de conteo es: {min_product_count}\")\n"
   ]
  },
  {
   "cell_type": "markdown",
   "id": "p9V6pddtjglj",
   "metadata": {
    "id": "p9V6pddtjglj"
   },
   "source": [
    "Describe brevemente cuáles son tus hallazgos.\n",
    "\n",
    "1. Tenemos 70 valores ausentes.\n",
    "2. Todos los pedidos con datos ausentes tienen el valor de 0.\n",
    "3. El valor mínimo de conteo 1."
   ]
  },
  {
   "cell_type": "code",
   "execution_count": 210,
   "id": "7a987d08",
   "metadata": {
    "id": "7a987d08"
   },
   "outputs": [
    {
     "name": "stdout",
     "output_type": "stream",
     "text": [
      "order_id             0\n",
      "product_id           0\n",
      "add_to_cart_order    0\n",
      "reordered            0\n",
      "dtype: int64\n",
      "<class 'pandas.core.frame.DataFrame'>\n",
      "RangeIndex: 4545007 entries, 0 to 4545006\n",
      "Data columns (total 4 columns):\n",
      " #   Column             Dtype\n",
      "---  ------             -----\n",
      " 0   order_id           int64\n",
      " 1   product_id         int64\n",
      " 2   add_to_cart_order  int64\n",
      " 3   reordered          int64\n",
      "dtypes: int64(4)\n",
      "memory usage: 138.7 MB\n"
     ]
    }
   ],
   "source": [
    "# Remplaza los valores ausentes en la columna 'add_to_cart? con 999 y convierte la columna al tipo entero.\n",
    "ausente = [0]\n",
    "df5['add_to_cart_order'] = df5['add_to_cart_order'].fillna(999)\n",
    "df5['add_to_cart_order'] = df5['add_to_cart_order'].astype('int')\n",
    "print(df5.isna().sum())\n",
    "df5.info()"
   ]
  },
  {
   "cell_type": "markdown",
   "id": "9d27d59b",
   "metadata": {},
   "source": [
    "<div class=\"alert alert-block alert-warning\">\n",
    "<b>Comentario revisor</b> <a class=\"tocSkip\"></a>\n",
    "\n",
    "\n",
    "Muy buena conclusión de esta base. Pero qué podríamos decir de los pedidos que tienen más de 64 productos?\n",
    "</div>"
   ]
  },
  {
   "cell_type": "markdown",
   "id": "fea4bcc7",
   "metadata": {
    "id": "fea4bcc7"
   },
   "source": [
    "Describe brevemente tus hallazgos y lo que hiciste con ellos.\n",
    "\n",
    "1. Existen tres posibilidades:\n",
    "- La primera es que realmente existan pedidos con 64 productos.\n",
    "- La segunda es que probablemente hayan realizado pedidos en diferentes días sin haber hecho la compra y de esta manera se hayan acumulado hasta llegar a 64.\n",
    "- La tercera es que probablemente exista un error."
   ]
  },
  {
   "cell_type": "markdown",
   "id": "RnplPFY1gSrb",
   "metadata": {
    "id": "RnplPFY1gSrb"
   },
   "source": [
    "## Conclusiones\n",
    "\n",
    "Escribe aquí tus conclusiones intermedias sobre el Paso 2. Preprocesamiento de los datos\n",
    " \n",
    " 1. Hemos procesado los datos de de cada datasets encontrando y convirtiendo los datos ausentes de acuerdo a cada pedido cada uno de los ejercicio.\n",
    "\n",
    "2. Hemos transformado columnas y encontrado valores ausentes concatenando columnas y rellenándolos con nuevos valores."
   ]
  },
  {
   "cell_type": "markdown",
   "id": "UjrOIwTcz3ri",
   "metadata": {
    "id": "UjrOIwTcz3ri"
   },
   "source": [
    "# Paso 3. Análisis de los datos\n",
    "\n",
    "Una vez los datos estén procesados y listos, haz el siguiente análisis:"
   ]
  },
  {
   "cell_type": "markdown",
   "id": "turkish-kidney",
   "metadata": {
    "id": "turkish-kidney"
   },
   "source": [
    "# [A] Fácil (deben completarse todos para aprobar)\n",
    "\n",
    "1. Verifica que los valores en las columnas `'order_hour_of_day'` y `'order_dow'` en la tabla orders sean razonables (es decir, `'order_hour_of_day'` oscile entre 0 y 23 y `'order_dow'` oscile entre 0 y 6).\n",
    "2. Crea un gráfico que muestre el número de personas que hacen pedidos dependiendo de la hora del día.\n",
    "3. Crea un gráfico que muestre qué día de la semana la gente hace sus compras.\n",
    "4. Crea un gráfico que muestre el tiempo que la gente espera hasta hacer su siguiente pedido, y comenta sobre los valores mínimos y máximos."
   ]
  },
  {
   "cell_type": "markdown",
   "id": "short-capability",
   "metadata": {
    "id": "short-capability"
   },
   "source": [
    "### [A1] Verifica que los valores sean sensibles"
   ]
  },
  {
   "cell_type": "code",
   "execution_count": 211,
   "id": "5b5649b8",
   "metadata": {
    "scrolled": true
   },
   "outputs": [
    {
     "data": {
      "text/plain": [
       "array([13, 12, 19, 20, 11,  8, 18, 15, 16,  9, 22, 10,  0, 14, 17,  1,  7,\n",
       "        6,  2, 21,  3, 23,  5,  4])"
      ]
     },
     "execution_count": 211,
     "metadata": {},
     "output_type": "execute_result"
    }
   ],
   "source": [
    "df1['order_hour_of_day'].unique()"
   ]
  },
  {
   "cell_type": "code",
   "execution_count": 212,
   "id": "5ac1b280",
   "metadata": {},
   "outputs": [
    {
     "data": {
      "text/plain": [
       "array([6, 5, 0, 4, 3, 1, 2])"
      ]
     },
     "execution_count": 212,
     "metadata": {},
     "output_type": "execute_result"
    }
   ],
   "source": [
    "df1['order_dow'].unique()"
   ]
  },
  {
   "cell_type": "markdown",
   "id": "hmR2GNQ6lCsX",
   "metadata": {
    "id": "hmR2GNQ6lCsX"
   },
   "source": [
    "Escribe aquí tus conclusiones\n",
    "\n",
    "1. Todos los valores en 'order_hour_of_day' y 'order_dow' son razonables "
   ]
  },
  {
   "cell_type": "markdown",
   "id": "a6743a70",
   "metadata": {
    "id": "a6743a70"
   },
   "source": [
    "### [A2] Para cada hora del día, ¿cuántas personas hacen órdenes?"
   ]
  },
  {
   "cell_type": "code",
   "execution_count": 213,
   "id": "a36cca27",
   "metadata": {
    "id": "a36cca27"
   },
   "outputs": [
    {
     "data": {
      "image/png": "[encoded data removed]",
      "text/plain": [
       "<Figure size 432x288 with 1 Axes>"
      ]
     },
     "metadata": {
      "needs_background": "light"
     },
     "output_type": "display_data"
    }
   ],
   "source": [
    "from matplotlib import pyplot as plt\n",
    "\n",
    "conteo = df1['order_hour_of_day'].value_counts().sort_index()\n",
    "\n",
    "conteo.plot(x= 'order_hour_of_day',\n",
    "                    y= 'order_id',\n",
    "                    kind= 'bar',\n",
    "                    title= 'Cuantas personas hacen pedidos dependiendo de la hora',\n",
    "                    xlabel= 'Hora del día',\n",
    "                    ylabel= 'Número de personas')\n",
    "\n",
    "plt.show()"
   ]
  },
  {
   "cell_type": "markdown",
   "id": "65c23217",
   "metadata": {},
   "source": [
    "<div class=\"alert alert-block alert-success\">\n",
    "<b>Comentario revisor</b> <a class=\"tocSkip\"></a>\n",
    "\n",
    "\n",
    "Muy buen trabajo el desarrollar una gráfica para visualizar los resultados\n",
    "</div>"
   ]
  },
  {
   "cell_type": "markdown",
   "id": "11270eed",
   "metadata": {
    "id": "11270eed"
   },
   "source": [
    "Escribe aquí tus conclusiones\n",
    "\n",
    "1. De acuerdo al gráfico se puede verificar que a las 08:00 hrs y a las 16:00 hrs es cuando se realizan el mayor número de pedidos"
   ]
  },
  {
   "cell_type": "markdown",
   "id": "documented-command",
   "metadata": {
    "id": "documented-command"
   },
   "source": [
    "### [A3] ¿Qué día de la semana compran víveres las personas?"
   ]
  },
  {
   "cell_type": "code",
   "execution_count": 214,
   "id": "chief-digit",
   "metadata": {
    "id": "chief-digit"
   },
   "outputs": [
    {
     "data": {
      "image/png": "[encoded data removed]",
      "text/plain": [
       "<Figure size 432x288 with 1 Axes>"
      ]
     },
     "metadata": {
      "needs_background": "light"
     },
     "output_type": "display_data"
    }
   ],
   "source": [
    "from matplotlib import pyplot as plt\n",
    "\n",
    "compras = df1['order_dow'].value_counts().sort_index()\n",
    "\n",
    "compras.plot(x= 'order_dow',\n",
    "                    y= 'order_id',\n",
    "                    kind= 'bar',\n",
    "                    title= 'Días de la semana que mas se compran víveres',\n",
    "                    xlabel= 'Día de la semana',\n",
    "                    ylabel= 'Número de personas')\n",
    "\n",
    "plt.show()"
   ]
  },
  {
   "cell_type": "markdown",
   "id": "dominant-lightning",
   "metadata": {
    "id": "dominant-lightning"
   },
   "source": [
    "Escribe aquí tus conclusiones\n",
    "\n",
    "1. Los días de la semana que mas se compran víveres son los domingos (domingo = 0) y los martes (martes = 2)"
   ]
  },
  {
   "cell_type": "markdown",
   "id": "cutting-concert",
   "metadata": {
    "id": "cutting-concert"
   },
   "source": [
    "### [A4] ¿Cuánto tiempo esperan las personas hasta hacer otro pedido? Comenta sobre los valores mínimos y máximos."
   ]
  },
  {
   "cell_type": "code",
   "execution_count": 215,
   "id": "c231f523",
   "metadata": {
    "id": "c231f523",
    "scrolled": true
   },
   "outputs": [
    {
     "data": {
      "image/png": "[encoded data removed]",
      "text/plain": [
       "<Figure size 432x288 with 1 Axes>"
      ]
     },
     "metadata": {
      "needs_background": "light"
     },
     "output_type": "display_data"
    },
    {
     "name": "stdout",
     "output_type": "stream",
     "text": [
      "Tiempo mínimo en días de espera a siguiente pedido: 0.0\n",
      "Tiempo máximo en días de espera a siguiente pedido: 30.0\n"
     ]
    }
   ],
   "source": [
    "from matplotlib import pyplot as plt\n",
    "\n",
    "#Ordenando el dataset df1 por tiempo de espera\n",
    "df1_ordenado = df1.sort_values(by='days_since_prior_order')\n",
    "\n",
    "#Histograma\n",
    "plt.hist(df1_ordenado['days_since_prior_order'].dropna(), bins=25)\n",
    "plt.title('Tiempo de espera hasta el siguiente pedido')\n",
    "plt.xlabel('Dias desde el pedido anterior')\n",
    "plt.ylabel('Frecuencia')\n",
    "plt.grid(True)\n",
    "plt.show()\n",
    "\n",
    "min_days = df1['days_since_prior_order'].min()\n",
    "max_days = df1['days_since_prior_order'].max()\n",
    "print(f\"Tiempo mínimo en días de espera a siguiente pedido: {min_days}\")\n",
    "print(f\"Tiempo máximo en días de espera a siguiente pedido: {max_days}\") "
   ]
  },
  {
   "cell_type": "code",
   "execution_count": 39,
   "id": "64adca4e",
   "metadata": {},
   "outputs": [
    {
     "data": {
      "image/png": "[encoded data removed]",
      "text/plain": [
       "<Figure size 432x288 with 1 Axes>"
      ]
     },
     "metadata": {
      "needs_background": "light"
     },
     "output_type": "display_data"
    }
   ],
   "source": [
    "#Gráfica sin incluir valores de 30 días\n",
    "df1_filtrado = df1[df1['days_since_prior_order'] != 30]\n",
    "\n",
    "# Histograma sin incluir los valores de 30 días\n",
    "plt.hist(df1_filtrado['days_since_prior_order'].dropna(), bins=25)\n",
    "plt.title('Tiempo de espera hasta el siguiente pedido (excluyendo 30 días)')\n",
    "plt.xlabel('Días desde el pedido anterior')\n",
    "plt.ylabel('Frecuencia')\n",
    "plt.grid(True)\n",
    "plt.show()"
   ]
  },
  {
   "cell_type": "markdown",
   "id": "21935d00",
   "metadata": {},
   "source": [
    "<div class=\"alert alert-block alert-warning\">\n",
    "<b>Comentario Revisor</b> <a class=\"tocSkip\"></a>\n",
    "\n",
    "Muy buen trabajo, pero pareciera que las personas que tardan 30 días puede ser un error. Entonces te sugiero complementar este análisis con una gráfica donde se muestren los valores sin contar los de 30\n",
    "</div>"
   ]
  },
  {
   "cell_type": "markdown",
   "id": "discrete-vertex",
   "metadata": {
    "id": "discrete-vertex"
   },
   "source": [
    "Escribe aquí tus conclusiones\n",
    "\n",
    "1. Se puede concluir que de los datos analizados 80000 hacen un otro pedido entre 5 a 8 días. Tenemos una porción de 53000 que hace pedidos al 30 días y apartir de 15 días la frecuencia de pedidos va disminuyendo."
   ]
  },
  {
   "cell_type": "markdown",
   "id": "tight-staff",
   "metadata": {
    "id": "tight-staff"
   },
   "source": [
    "# [B] Intermedio (deben completarse todos para aprobar)\n",
    "\n",
    "1. ¿Existe alguna diferencia entre las distribuciones `'order_hour_of_day'` de los miércoles y los sábados? Traza gráficos de barra de `'order_hour_of_day'` para ambos días en la misma figura y describe las diferencias que observes.\n",
    "2. Grafica la distribución para el número de órdenes que hacen los clientes (es decir, cuántos clientes hicieron solo 1 pedido, cuántos hicieron 2, cuántos 3, y así sucesivamente...).\n",
    "3. ¿Cuáles son los 20 principales productos que se piden con más frecuencia (muestra su identificación y nombre)?"
   ]
  },
  {
   "cell_type": "markdown",
   "id": "packed-classic",
   "metadata": {
    "id": "packed-classic"
   },
   "source": [
    "### [B1] Diferencia entre miércoles y sábados para  `'order_hour_of_day'`. Traza gráficos de barra para los dos días y describe las diferencias que veas."
   ]
  },
  {
   "cell_type": "code",
   "execution_count": 216,
   "id": "d89b8403",
   "metadata": {
    "id": "d89b8403"
   },
   "outputs": [
    {
     "data": {
      "image/png": "[encoded data removed]",
      "text/plain": [
       "<Figure size 720x432 with 1 Axes>"
      ]
     },
     "metadata": {
      "needs_background": "light"
     },
     "output_type": "display_data"
    }
   ],
   "source": [
    "from matplotlib import pyplot as plt\n",
    "\n",
    "#Filtrando dataset para miércoles y sábado\n",
    "df1_mierc = df1[df1['order_dow'] == 3]\n",
    "df1_sab = df1[df1['order_dow'] == 6]\n",
    "\n",
    "#Cálculo de frecuencia para cada hora del día\n",
    "freq_hora_mierc = df1_mierc['order_hour_of_day'].value_counts().sort_index()\n",
    "freq_hora_sab = df1_sab['order_hour_of_day'].value_counts().sort_index()\n",
    "\n",
    "#Creando el gráfico de barras\n",
    "fig, ax = plt.subplots(figsize=(10, 6))\n",
    "\n",
    "freq_hora_mierc.plot(kind= 'bar',\n",
    "                     color = 'blue',\n",
    "                     label= 'Miércoles',\n",
    "                     position= 0)\n",
    "freq_hora_sab.plot(kind= 'bar',\n",
    "                    color = 'orange',\n",
    "                    label= 'Sábado',\n",
    "                    position= 1)\n",
    "ax.set_xlabel('Hora del día')\n",
    "ax.set_ylabel('Número de pedidos')\n",
    "ax.set_title('Distribución de pedidos por hora del día (Miércoles vs Sábado)')\n",
    "ax.set_xticks(range(24))\n",
    "ax.legend()\n",
    "\n",
    "plt.grid(True)\n",
    "plt.show()\n",
    "\n",
    "\n"
   ]
  },
  {
   "cell_type": "markdown",
   "id": "charitable-congo",
   "metadata": {
    "id": "charitable-congo"
   },
   "source": [
    "Escribe aquí tus conclusiones\n",
    "\n",
    "1. Se concluye que los pedidos comienzan a crecer a partir de la hora sexta, obteniendo el mayor pico a las 13:00 y 14:00 hrs, disminuyendo la cantidad de pedidos a partir de las 16:00 rs"
   ]
  },
  {
   "cell_type": "markdown",
   "id": "e3891143",
   "metadata": {
    "id": "e3891143"
   },
   "source": [
    "### [B2] ¿Cuál es la distribución para el número de pedidos por cliente?"
   ]
  },
  {
   "cell_type": "code",
   "execution_count": 217,
   "id": "d8c26c23",
   "metadata": {
    "id": "d8c26c23"
   },
   "outputs": [
    {
     "name": "stdout",
     "output_type": "stream",
     "text": [
      "user_id\n",
      "2          4\n",
      "4          6\n",
      "5          4\n",
      "6          4\n",
      "7         19\n",
      "          ..\n",
      "206203     2\n",
      "206206    66\n",
      "206207    14\n",
      "206208    34\n",
      "206209    13\n",
      "Name: order_number, Length: 157437, dtype: int64\n"
     ]
    }
   ],
   "source": [
    "#Agrupando por user_id y contando el número de pedidos por cliente\n",
    "pedidos_por_id = df1.groupby('user_id')['order_number'].max()\n",
    "\n",
    "#Filtrando los clientes que tienen de 1 a 10 pedidos\n",
    "#pedidos_por_id = pedidos_por_id[pedidos_por_id <= 10] \n",
    "print(pedidos_por_id)"
   ]
  },
  {
   "cell_type": "code",
   "execution_count": 218,
   "id": "00e69a66",
   "metadata": {
    "id": "00e69a66"
   },
   "outputs": [
    {
     "data": {
      "image/png": "[encoded data removed]",
      "text/plain": [
       "<Figure size 1296x288 with 1 Axes>"
      ]
     },
     "metadata": {
      "needs_background": "light"
     },
     "output_type": "display_data"
    }
   ],
   "source": [
    "from matplotlib import pyplot as plt\n",
    "\n",
    "#Gráfico de barras\n",
    "pedidos_por_id.value_counts().sort_index().plot(\n",
    "                    title= 'Distribución del número de pedidos por cliente',\n",
    "                    figsize = (18, 4),\n",
    "                    kind= 'bar',\n",
    "                    x= 'order_number',\n",
    "                    y= 'user_id',\n",
    "                    xlabel= 'Número de órdenes',\n",
    "                    ylabel= 'Número de clientes',\n",
    "                    rot= 45,\n",
    "                    grid= True)\n",
    "plt.show()"
   ]
  },
  {
   "cell_type": "markdown",
   "id": "d2eff7d5",
   "metadata": {
    "id": "d2eff7d5"
   },
   "source": [
    "Escribe aquí tus conclusiones\n",
    "\n",
    "1. Debido a que la cantidad de datos del dataset son muy pesados para los recursos del Kernel, tan solo se ha calculado la cantidad de órdenes por cliente desde los que tienen 1 a 10 pedidos.\n",
    "\n",
    "2. La mayor cantidad de pedidos por cliente son 4 con una cantidad de 12000 clientes que han hecho 4 pedidos.\n",
    "\n",
    "3. Tan solo con 5800 clientes que han hecho 10 pedidos."
   ]
  },
  {
   "cell_type": "markdown",
   "id": "54a0319c",
   "metadata": {
    "id": "54a0319c"
   },
   "source": [
    "### [B3] ¿Cuáles son los 20 productos más populares (muestra su ID y nombre)?"
   ]
  },
  {
   "cell_type": "code",
   "execution_count": 41,
   "id": "exterior-arizona",
   "metadata": {
    "id": "exterior-arizona",
    "scrolled": true
   },
   "outputs": [
    {
     "name": "stdout",
     "output_type": "stream",
     "text": [
      "24852    66050\n",
      "13176    53297\n",
      "21137    37039\n",
      "21903    33971\n",
      "47209    29773\n",
      "47766    24689\n",
      "47626    21495\n",
      "16797    20018\n",
      "26209    19690\n",
      "27845    19600\n",
      "27966    19197\n",
      "22935    15898\n",
      "24964    15292\n",
      "45007    14584\n",
      "39275    13879\n",
      "49683    13675\n",
      "28204    12544\n",
      "5876     12232\n",
      "8277     11993\n",
      "40706    11781\n",
      "Name: product_id, dtype: int64\n"
     ]
    }
   ],
   "source": [
    "#Uniendo los dataset instacart_orders y order_products ya que tienen en común la columna 'order_id'\n",
    "merged_df = pd.merge(df1, df5, on= 'order_id')\n",
    "\n",
    "#Contando la frecuencia de cada producto en la columna 'product_id'\n",
    "top_prod = merged_df['product_id'].value_counts().head(20)\n",
    "print(top_prod)"
   ]
  },
  {
   "cell_type": "code",
   "execution_count": 53,
   "id": "universal-facial",
   "metadata": {
    "id": "universal-facial",
    "scrolled": true
   },
   "outputs": [
    {
     "name": "stdout",
     "output_type": "stream",
     "text": [
      "       product_id              product_name  aisle_id  department_id\n",
      "49682       49683            Cucumber Kirby        83              4\n",
      "47765       47766           Organic Avocado        24              4\n",
      "47625       47626               Large Lemon        24              4\n",
      "47208       47209      Organic Hass Avocado        24              4\n",
      "45006       45007          Organic Zucchini        83              4\n",
      "40705       40706    Organic Grape Tomatoes       123              4\n",
      "39274       39275       Organic Blueberries       123              4\n",
      "28203       28204        Organic Fuji Apple        24              4\n",
      "27965       27966       Organic Raspberries       123              4\n",
      "27844       27845        Organic Whole Milk        84             16\n",
      "26208       26209                     Limes        24              4\n",
      "24963       24964            Organic Garlic        83              4\n",
      "24851       24852                    Banana        24              4\n",
      "22934       22935      Organic Yellow Onion        83              4\n",
      "21902       21903      Organic Baby Spinach       123              4\n",
      "21136       21137      Organic Strawberries        24              4\n",
      "16796       16797              Strawberries        24              4\n",
      "13175       13176    Bag of Organic Bananas        24              4\n",
      "8276         8277  Apple Honeycrisp Organic        24              4\n",
      "5875         5876             Organic Lemon        24              4\n"
     ]
    }
   ],
   "source": [
    "#Obteniendo información de los nombres de los productos y sus IDs utilizando el dataset products.csv que contiene la columna 'product_name'\n",
    "top_prod_info = df2[df2['product_id'].isin(top_prod.index)]\n",
    "print(top_prod_info_sorted)"
   ]
  },
  {
   "cell_type": "code",
   "execution_count": 50,
   "id": "1d6d7bb3",
   "metadata": {},
   "outputs": [
    {
     "data": {
      "image/png": "[encoded data removed]",
      "text/plain": [
       "<Figure size 720x432 with 1 Axes>"
      ]
     },
     "metadata": {
      "needs_background": "light"
     },
     "output_type": "display_data"
    }
   ],
   "source": [
    "# Uniendo los datasets 'merged_df' y 'df2' para obtener los nombres de los productos agrupados por 'product_id', 'product_name' \n",
    "merged_nombres = pd.merge(merged_df, df2[['product_id', 'product_name']], on='product_id')\n",
    "\n",
    "# Contando la frecuencia de cada producto en la columna 'product_name'\n",
    "top_nombres_prod = merged_nombres['product_name'].value_counts().head(20)\n",
    "\n",
    "# Graficando el recuento de los productos más frecuentes\n",
    "plt.figure(figsize=(10, 6))\n",
    "top_nombres_prod.plot(kind='bar')\n",
    "plt.title('Top 20 Productos Más Frecuentes')\n",
    "plt.xlabel('Nombre del Producto')\n",
    "plt.ylabel('Frecuencia')\n",
    "plt.show()"
   ]
  },
  {
   "cell_type": "markdown",
   "id": "778aa871",
   "metadata": {},
   "source": [
    "<div class=\"alert alert-block alert-danger\">\n",
    "<b>Comentario Revisor</b> <a class=\"tocSkip\"></a>\n",
    "\n",
    "En este caso la variable que nos interesa agrupar por 'product_id', 'product_name' y obtener el tamaño para graficarlo\n",
    "</div>"
   ]
  },
  {
   "cell_type": "markdown",
   "id": "7df00f47",
   "metadata": {
    "id": "7df00f47"
   },
   "source": [
    "Escribe aquí tus conclusiones:\n",
    "\n",
    "1. De los 20 productos mas pedidos la mayoría son productos orgánicos y frutas.\n",
    "2. El mas pedido es Banana, seguido por Bag of Organic Bananas y Organic Strawberries."
   ]
  },
  {
   "cell_type": "raw",
   "id": "6a6255ce",
   "metadata": {
    "id": "gross-theme"
   },
   "source": [
    "# [C] Difícil (deben completarse todos para aprobar)\n",
    "\n",
    "1. ¿Cuántos artículos suelen comprar las personas en un pedido? ¿Cómo es la distribución?\n",
    "2. ¿Cuáles son los 20 principales artículos que vuelven a pedirse con mayor frecuencia (muestra sus nombres e IDs de los productos)?\n",
    "3. Para cada producto, ¿cuál es la tasa de repetición del pedido (número de repeticiones de pedido/total de pedidos?\n",
    "4. Para cada cliente, ¿qué proporción de los productos que pidió ya los había pedido? Calcula la tasa de repetición de pedido para cada usuario en lugar de para cada producto.\n",
    "5. ¿Cuáles son los 20 principales artículos que la gente pone primero en sus carritos (muestra las IDs de los productos, sus nombres, y el número de veces en que fueron el primer artículo en añadirse al carrito)?"
   ]
  },
  {
   "cell_type": "markdown",
   "id": "romantic-deposit",
   "metadata": {
    "id": "romantic-deposit"
   },
   "source": [
    "### [C1] ¿Cuántos artículos compran normalmente las personas en un pedido? ¿Cómo es la distribución?"
   ]
  },
  {
   "cell_type": "code",
   "execution_count": 221,
   "id": "virtual-punch",
   "metadata": {
    "id": "virtual-punch"
   },
   "outputs": [
    {
     "name": "stdout",
     "output_type": "stream",
     "text": [
      "order_id\n",
      "4          13\n",
      "9          15\n",
      "11          5\n",
      "19          3\n",
      "20          8\n",
      "           ..\n",
      "3421034    17\n",
      "3421053     9\n",
      "3421071     5\n",
      "3421077     4\n",
      "3421079     1\n",
      "Name: product_id, Length: 450046, dtype: int64\n"
     ]
    }
   ],
   "source": [
    "from matplotlib import pyplot as plt\n",
    "\n",
    "#Calculando cantidad de productos por pedido\n",
    "productos_por_pedido = df5.groupby('order_id')['product_id'].count()\n",
    "print(productos_por_pedido)"
   ]
  },
  {
   "cell_type": "code",
   "execution_count": 222,
   "id": "sensitive-breathing",
   "metadata": {
    "id": "sensitive-breathing"
   },
   "outputs": [
    {
     "name": "stdout",
     "output_type": "stream",
     "text": [
      "10.098983215049127\n"
     ]
    }
   ],
   "source": [
    "#Calculando la cantidad promedio de productos por pedido\n",
    "prom_prod_por_pedido = productos_por_pedido.mean()\n",
    "print(prom_prod_por_pedido)"
   ]
  },
  {
   "cell_type": "code",
   "execution_count": 223,
   "id": "completed-frank",
   "metadata": {
    "id": "completed-frank"
   },
   "outputs": [
    {
     "data": {
      "image/png": "[encoded data removed]",
      "text/plain": [
       "<Figure size 432x288 with 1 Axes>"
      ]
     },
     "metadata": {
      "needs_background": "light"
     },
     "output_type": "display_data"
    }
   ],
   "source": [
    "#Visualizando la distribución\n",
    "productos_por_pedido.plot(\n",
    "    title= 'Distribución de la cantidad de productos por pedido',\n",
    "    kind= 'hist',\n",
    "    bins= 50,\n",
    "    xlabel= 'Cantidad de productos por pedido',\n",
    "    ylabel = 'Frecuencia',\n",
    "    grid= True,)\n",
    "\n",
    "plt.show()"
   ]
  },
  {
   "cell_type": "markdown",
   "id": "designed-mortality",
   "metadata": {
    "id": "designed-mortality"
   },
   "source": [
    "Escribe aquí tus conclusiones:\n",
    "\n",
    "1. La mayor cantidad de frecuencia de pedidos se encuentra entre 0 y 10 productos, tal y como se muesra en el gráfico y en el promedio de cantidad de productos pedidos."
   ]
  },
  {
   "cell_type": "markdown",
   "id": "5e6b5537",
   "metadata": {
    "id": "5e6b5537"
   },
   "source": [
    "### [C2] ¿Cuáles son los 20 principales artículos que vuelven a pedirse con mayor frecuencia (muestra sus nombres e IDs de los productos)?"
   ]
  },
  {
   "cell_type": "code",
   "execution_count": 54,
   "id": "9374e55a",
   "metadata": {
    "id": "9374e55a"
   },
   "outputs": [],
   "source": [
    "#Filtrando los prpductos que se han vuelto a pedir\n",
    "reordered_products = df5[df5['reordered'] == 1]\n",
    "\n",
    "#Uniendo con df2 para obtener nombres de los productos\n",
    "merged_reordered_products = pd.merge(reordered_products, df2[['product_id', 'product_name']], on='product_id')\n",
    "\n",
    "#Agrupando los productos por 'product_id' y 'product_name' y haciendo el conteo\n",
    "prod_reordered_count = merged_reordered_products.groupby(['product_id', 'product_name']).size().reset_index(name='frequency')"
   ]
  },
  {
   "cell_type": "code",
   "execution_count": 55,
   "id": "possible-change",
   "metadata": {
    "id": "possible-change",
    "scrolled": true
   },
   "outputs": [
    {
     "name": "stdout",
     "output_type": "stream",
     "text": [
      "       product_id              product_name  frequency\n",
      "17837       24852                    Banana      55763\n",
      "9383        13176    Bag of Organic Bananas      44450\n",
      "15138       21137      Organic Strawberries      28639\n",
      "15698       21903      Organic Baby Spinach      26233\n",
      "33927       47209      Organic Hass Avocado      23629\n",
      "34337       47766           Organic Avocado      18743\n",
      "19995       27845        Organic Whole Milk      16251\n",
      "34234       47626               Large Lemon      15044\n",
      "20083       27966       Organic Raspberries      14748\n",
      "12010       16797              Strawberries      13945\n",
      "18811       26209                     Limes      13327\n",
      "16450       22935      Organic Yellow Onion      11145\n",
      "17919       24964            Organic Garlic      10411\n",
      "32338       45007          Organic Zucchini      10076\n",
      "35711       49683            Cucumber Kirby       9538\n",
      "20247       28204        Organic Fuji Apple       8989\n",
      "5891         8277  Apple Honeycrisp Organic       8836\n",
      "28216       39275       Organic Blueberries       8799\n",
      "4206         5876             Organic Lemon       8412\n",
      "35400       49235       Organic Half & Half       8389\n"
     ]
    }
   ],
   "source": [
    "#Ordenando los productos por su frecuencia de manera descendente\n",
    "prod_reordered_count_desc = prod_reordered_count.sort_values(by='frequency', ascending=False)\n",
    "\n",
    "#Muestra de los 20 principales artículos que se vuelven a pedir\n",
    "top_20_reordered_products = prod_reordered_count_desc.head(20)\n",
    "print(top_20_reordered_products)"
   ]
  },
  {
   "cell_type": "markdown",
   "id": "80e70c74",
   "metadata": {
    "id": "80e70c74"
   },
   "source": [
    "Escribe aquí tus conclusiones\n",
    "\n",
    "1. Obteniendo información del dataset df5 (order_products.csv) podemos ver que el producto que se vuelve a pedir con mayor frecuencia es la Banana, seguido por Bag of Organic Bananas y Organic Strawberries."
   ]
  },
  {
   "cell_type": "markdown",
   "id": "bdf659a9",
   "metadata": {},
   "source": [
    "<div class=\"alert alert-block alert-danger\">\n",
    "<b>Comentario Revisor</b> <a class=\"tocSkip\"></a>\n",
    "\n",
    "Muy buen trabajo, pero en este caso debemos hacer el filtro de los productos que se volvieron a ordenar y después agruparlos por ['product_id', 'product_name'] para hacer el conteo.\n",
    "</div>"
   ]
  },
  {
   "cell_type": "markdown",
   "id": "9d312b14",
   "metadata": {
    "id": "9d312b14"
   },
   "source": [
    "### [C3] Para cada producto, ¿cuál es la proporción de las veces que se pide y que se vuelve a pedir?"
   ]
  },
  {
   "cell_type": "code",
   "execution_count": 248,
   "id": "8ae9f4b1",
   "metadata": {
    "id": "8ae9f4b1"
   },
   "outputs": [],
   "source": [
    "#Combinamos los DataFrames df5 y df2 utilizando merge\n",
    "merged_df = pd.merge(df5, df2, on='product_id')\n",
    "\n",
    "#Número total de pedidos para cada producto\n",
    "total_orders_per_product = merged_df.groupby('product_id')['order_id'].nunique()"
   ]
  },
  {
   "cell_type": "code",
   "execution_count": 249,
   "id": "103e7fe1",
   "metadata": {
    "id": "103e7fe1"
   },
   "outputs": [],
   "source": [
    "#Número total de repeticiones de pedidos para cada producto\n",
    "total_reorders_per_product = merged_df.groupby('product_id')['reordered'].sum()\n",
    "\n",
    "# Calculo de la tasa de repetición del pedido para cada producto\n",
    "reorder_rate_per_product = total_reorders_per_product / total_orders_per_product"
   ]
  },
  {
   "cell_type": "code",
   "execution_count": 250,
   "id": "social-individual",
   "metadata": {
    "id": "social-individual"
   },
   "outputs": [
    {
     "name": "stdout",
     "output_type": "stream",
     "text": [
      "       product_id  reorder_rate  \\\n",
      "0               1      0.564286   \n",
      "1               2      0.000000   \n",
      "2               3      0.738095   \n",
      "3               4      0.510204   \n",
      "4               7      0.500000   \n",
      "...           ...           ...   \n",
      "45568       49690      0.800000   \n",
      "45569       49691      0.430556   \n",
      "45570       49692      0.416667   \n",
      "45571       49693      0.440000   \n",
      "45572       49694      0.333333   \n",
      "\n",
      "                                            product_name  \n",
      "0                             Chocolate Sandwich Cookies  \n",
      "1                                       All-Seasons Salt  \n",
      "2                   Robust Golden Unsweetened Oolong Tea  \n",
      "3      Smart Ones Classic Favorites Mini Rigatoni Wit...  \n",
      "4                         Pure Coconut Water With Orange  \n",
      "...                                                  ...  \n",
      "45568                      HIGH PERFORMANCE ENERGY DRINK  \n",
      "45569                      ORIGINAL PANCAKE & WAFFLE MIX  \n",
      "45570    ORGANIC INSTANT OATMEAL LIGHT MAPLE BROWN SUGAR  \n",
      "45571                             SPRING WATER BODY WASH  \n",
      "45572                            BURRITO- STEAK & CHEESE  \n",
      "\n",
      "[45573 rows x 3 columns]\n"
     ]
    }
   ],
   "source": [
    "#Creo un DataFrame con la tasa de repetición del pedido para cada producto\n",
    "reorder_rate_df = pd.DataFrame({\n",
    "    'product_id': reorder_rate_per_product.index,\n",
    "    'reorder_rate': reorder_rate_per_product.values\n",
    "})\n",
    "\n",
    "# Unir el nombre del producto al DataFrame\n",
    "reorder_rate_df = pd.merge(reorder_rate_df, df2[['product_id', 'product_name']], on='product_id')\n",
    "\n",
    "print(reorder_rate_df)"
   ]
  },
  {
   "cell_type": "markdown",
   "id": "I10dEIAyldcO",
   "metadata": {
    "id": "I10dEIAyldcO"
   },
   "source": [
    "Escribe aquí tus conclusiones\n",
    "\n",
    "Se puede verificar que la tasa repetición por producto es distinta para cada uno."
   ]
  },
  {
   "cell_type": "markdown",
   "id": "subject-boxing",
   "metadata": {
    "id": "subject-boxing"
   },
   "source": [
    "### [C4] Para cada cliente, ¿qué proporción de sus productos ya los había pedido?"
   ]
  },
  {
   "cell_type": "code",
   "execution_count": 229,
   "id": "medical-couple",
   "metadata": {
    "id": "medical-couple",
    "scrolled": true
   },
   "outputs": [],
   "source": [
    "#Calculando el número total de productos únicos en df5 que cada usuario ha pedido\n",
    "total_productos_por_usuario = df5.groupby('order_id')['product_id'].nunique().reset_index()\n",
    "\n",
    "#Productos que han sido reordenados\n",
    "productos_reordenados = df5[df5['reordered'] == 1]"
   ]
  },
  {
   "cell_type": "code",
   "execution_count": 230,
   "id": "8892e4b4",
   "metadata": {
    "id": "8892e4b4"
   },
   "outputs": [],
   "source": [
    "#Calculando el número total de productos reordenados por usuarios\n",
    "total_reordenados_usuarios = productos_reordenados.groupby('order_id')['product_id'].nunique().reset_index()"
   ]
  },
  {
   "cell_type": "code",
   "execution_count": 231,
   "id": "de191f57",
   "metadata": {},
   "outputs": [
    {
     "name": "stdout",
     "output_type": "stream",
     "text": [
      "        user_id  Tasa_Repetición_Pedido\n",
      "0        183418                0.538462\n",
      "1        163593                0.500000\n",
      "2         39980                     NaN\n",
      "3         82516                0.687500\n",
      "4        196724                0.407407\n",
      "...         ...                     ...\n",
      "478947     5617                0.666667\n",
      "478948   112087                0.222222\n",
      "478949    82944                0.500000\n",
      "478950     4391                1.000000\n",
      "478951     1730                0.823529\n",
      "\n",
      "[478952 rows x 2 columns]\n"
     ]
    }
   ],
   "source": [
    "#Combinando la información para obtener la tasa de repetición\n",
    "df_merge = pd.merge(df1,\n",
    "                    total_productos_por_usuario,\n",
    "                    on= 'order_id',\n",
    "                    how= 'left')\n",
    "df_merge = pd.merge(df_merge,\n",
    "                    total_reordenados_usuarios,\n",
    "                    on= 'order_id',\n",
    "                    how= 'left')\n",
    "\n",
    "#Calculando la tasa de repetición de pedido para cada usuario\n",
    "df_merge['Tasa_Repetición_Pedido'] = df_merge['product_id_y'] / df_merge['product_id_x']\n",
    "print(df_merge[['user_id', 'Tasa_Repetición_Pedido']])"
   ]
  },
  {
   "cell_type": "markdown",
   "id": "BgJSvXDsleXz",
   "metadata": {
    "id": "BgJSvXDsleXz"
   },
   "source": [
    "Escribe aquí tus conclusiones\n",
    "\n",
    "1. Se puede verificar que la tasa repetición por pedido depende unicamente de cada usuario."
   ]
  },
  {
   "cell_type": "markdown",
   "id": "92d35137",
   "metadata": {
    "id": "92d35137"
   },
   "source": [
    "### [C5] ¿Cuáles son los 20 principales artículos que las personas ponen primero en sus carritos?"
   ]
  },
  {
   "cell_type": "code",
   "execution_count": 235,
   "id": "0ae57274",
   "metadata": {
    "id": "0ae57274",
    "scrolled": true
   },
   "outputs": [],
   "source": [
    "#Combinando los DataFrames df5 y df2 utilizando merge \n",
    "merged_df = pd.merge(df5, df2, on='product_id')"
   ]
  },
  {
   "cell_type": "code",
   "execution_count": 236,
   "id": "6279f333",
   "metadata": {},
   "outputs": [],
   "source": [
    "#Filtrando las filas donde add_to_cart_order es 1\n",
    "first_items = merged_df[merged_df['add_to_cart_order'] == 1]"
   ]
  },
  {
   "cell_type": "code",
   "execution_count": 237,
   "id": "f0e1f963",
   "metadata": {},
   "outputs": [],
   "source": [
    "#Contando la frecuencia de los primeros artículos\n",
    "top_first_items = first_items['product_id'].value_counts().head(20)"
   ]
  },
  {
   "cell_type": "code",
   "execution_count": 238,
   "id": "a4a87fd3",
   "metadata": {},
   "outputs": [
    {
     "name": "stdout",
     "output_type": "stream",
     "text": [
      "    product_id              nombre_producto  veces_primero\n",
      "0        24852                         Soda          15562\n",
      "1        13176  Organic Reduced Fat 2% Milk          11026\n",
      "2        27845                Hass Avocados           4363\n",
      "3        21137       Bag of Organic Bananas           3946\n",
      "4        47209                 Strawberries           3390\n",
      "5        21903                 Spring Water           3336\n",
      "6        47766         Organic Strawberries           3044\n",
      "7        19660         Organic Baby Spinach           2336\n",
      "8        16797         Organic Yellow Onion           2308\n",
      "9        27966                       Banana           2024\n",
      "10       44632                        Limes           1914\n",
      "11       49235                  Half & Half           1797\n",
      "12       47626           Organic Whole Milk           1737\n",
      "13         196          Organic Raspberries           1733\n",
      "14       38689     Organic Reduced Fat Milk           1397\n",
      "15       26209   Sparkling Water Grapefruit           1370\n",
      "16       12341         Organic Hass Avocado           1340\n",
      "17        5785                  Large Lemon           1310\n",
      "18       27086              Organic Avocado           1309\n",
      "19       22935          Organic Half & Half           1246\n"
     ]
    }
   ],
   "source": [
    "# Info de los nombres de los productos y el número de veces que fueron el primer artículo en añadirse al carrito\n",
    "top_first_items_info = pd.DataFrame({\n",
    "    'product_id': top_first_items.index,\n",
    "    'nombre_producto': df2[df2['product_id'].isin(top_first_items.index)]['product_name'].values,\n",
    "    'veces_primero': top_first_items.values\n",
    "})\n",
    "\n",
    "print(top_first_items_info)"
   ]
  },
  {
   "cell_type": "markdown",
   "id": "28ce9872",
   "metadata": {
    "id": "28ce9872"
   },
   "source": [
    "Escribe aquí tus conclusiones\n",
    "\n",
    "1.Soda es el producto que mas veces se ha incluido primero en el carrito con 15562 veces primero,\n",
    "seguido por Organic Reduced Fat 2% Milk con 11026 y Hass Avocados con 4363."
   ]
  },
  {
   "cell_type": "markdown",
   "id": "uITbFCEoDosC",
   "metadata": {
    "id": "uITbFCEoDosC"
   },
   "source": [
    "### Conclusion general del proyecto:"
   ]
  },
  {
   "cell_type": "code",
   "execution_count": 243,
   "id": "Nk-4GS7mDwqY",
   "metadata": {
    "id": "Nk-4GS7mDwqY"
   },
   "outputs": [],
   "source": [
    "#### Ha sido un proyecto en el que he podido reforzar mis conocimientos sobre el manejo de valores duplicados y ausentes, \n",
    "#### filtrado de datos, visualización de datos con gráficos, combinar dataframes en columnas, y transformación de Datos."
   ]
  }
 ],
 "metadata": {
  "colab": {
   "provenance": []
  },
  "kernelspec": {
   "display_name": "Python 3 (ipykernel)",
   "language": "python",
   "name": "python3"
  },
  "language_info": {
   "codemirror_mode": {
    "name": "ipython",
    "version": 3
   },
   "file_extension": ".py",
   "mimetype": "text/x-python",
   "name": "python",
   "nbconvert_exporter": "python",
   "pygments_lexer": "ipython3",
   "version": "3.9.5"
  },
  "toc": {
   "base_numbering": 1,
   "nav_menu": {},
   "number_sections": true,
   "sideBar": true,
   "skip_h1_title": true,
   "title_cell": "Table of Contents",
   "title_sidebar": "Contents",
   "toc_cell": false,
   "toc_position": {},
   "toc_section_display": true,
   "toc_window_display": false
  },
  "vscode": {
   "interpreter": {
    "hash": "01a7be9ec63e704a62cefc5fe7a4756944464ee731be31632bdf42a4cb4688cf"
   }
  }
 },
 "nbformat": 4,
 "nbformat_minor": 5
}
